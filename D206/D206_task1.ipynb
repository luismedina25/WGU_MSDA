{
 "cells": [
  {
   "cell_type": "markdown",
   "metadata": {},
   "source": [
    "# D206 Data Cleaning Performance Assessment\n",
    "By Luis Medina, Student ID 012020203"
   ]
  },
  {
   "cell_type": "markdown",
   "metadata": {},
   "source": [
    "## A: Research Question \n",
    "For this problem I will be using the medical data csv file to answer some question. The main question to look for is what factors will cause a patient to be readmitted to the hospital. There are many different factors that can cause someone to be remitted to the hospital, so we will look at the data to see if we can find any patterns. This is important to look at, because if a hospital has too many readmission of patients, then an external organization will penalize the hospital for excessive readmissions. Looking at the information of the data it says, that the percentage of hospitals penalized for readmission has increased each year. So, it's important to look at the data to see if we can find any patterns that will help reduce the number of readmissions.\n"
   ]
  },
  {
   "cell_type": "markdown",
   "metadata": {},
   "source": [
    "## B: Required Variables\n",
    "This dataset contains a total of 52 columns and 10,000 customers, which are the rows. Each row relates to a patient and thier hospital admission. Each variable will be summarized here. \n",
    "\n",
    "* CaseOrder (int64), example: 1\n",
    "    This column is the index of the data, and keeps the data in order.\n",
    "* Customer_id (int64), example: C412403\n",
    "    This column is an ID for the patient.\n",
    "* Interaction (object), example 8cd49b13-f45a-4b47-a2bd-173ffa932c2f\n",
    "    This column is also an ID.\n",
    "* UID (object), example: 3a83ddb66e2ae73798bdf1d705dc0932\n",
    "    This column like the one before is used for ID purpose but it's not intended to be human readable.\n",
    "* City (object), example: Eva\n",
    "* State (object), example: AL\n",
    "* County (object), example: Morgan\n",
    "* Zip (int64), example: 35621\n",
    "* Lat (float64), example: 34.34960\n",
    "* Lng (float64), example: -86.7251\n",
    "    This two columns is for location of the patient's residence that is listed on the billing statement.\n",
    "* Population (int64), example: 2951 \n",
    "    This column is the population within a mile radius of the patient\n",
    "* Area (object), example: Suburban \n",
    "* TimeZone (object), example: America/Chicago\n",
    "    This column is for the time zone of the patient residence based on the patient's sign-up information.\n",
    "* Job (object), example: Psychologist, sport and exercise\n",
    "    This column refers to the occupation of the patient or primary insurance holder. \n",
    "* Children (float64), example: 1\n",
    "    This column is just for the number of children in the patient's household.\n",
    "* Age (float64), example: 53\n",
    "    This is for the age of the patient reported in admission information\n",
    "* Education (object), example: Some College, Less than 1 Year\n",
    "    This column is the highest earned degree of the patient\n",
    "* Employment (object), example: Full Time\n",
    "    For this column it tells us the employment status of the patient.\n",
    "* Income (float64), example: 86575.93\n",
    "    The annual income of the patient or primary insurnace holder as reported on admission information.\n",
    "* Marital (object), example: Divorced\n",
    "    This is the marital status of the patient or primary insurance holder\n",
    "* Gender (Object), example: Male\n",
    "    For this the patient self-indentification as male, female, or nonbinary \n",
    "* ReAdmis (Object), example: No\n",
    "    For this column it indicates if whether or not the patient was readmitted within 1 month of release.\n",
    "* VitD_levels (float64), example: 17.802330\n",
    "    This is the patient's vitamin D levels as measured in ng/mL.\n",
    "* Doc_visits (int64), example: 6\n",
    "    Here is the number of times the primary physician visisted the patient during the initial hospitalization.\n",
    "* Full_meals_eaten (int64), example: 0\n",
    "    For this column it's the number of full meals the patient ate while hospitalized.\n",
    "* VitD_supp (int64), example: 0 \n",
    "    This column is the number of Vitamin D supplements the patient was provided. \n",
    "* Soft_drink (object), example: NaN\n",
    "    This column is if the patient habitually drinks three or more sodas in a day.\n",
    "* Initial_admin (object), example: Emergency Admission\n",
    "    How the patient was admitted into the hospital initially.\n",
    "* HighBlood (object), example: Yes\n",
    "    A binary variable, that indicates if a patient has high blood pressure or not.\n",
    "* Stroke (object), example: No\n",
    "    A binary variable, whether the patient has had a stroke.\n",
    "* Complication_risk (object), example: Medium\n",
    "    Category for the level of complication risk for the patient as assessed by a primary patient assessment\n",
    "* Overweight (float64), example: 0.0\n",
    "    A binary variable, to indicate whether a patient is overweight based on age, gender, and height.\n",
    "* Arthritis (object), example: Yes\n",
    "    A binary variable, to indicate whether the patient has arthiritis.\n",
    "* Hyperlipidemia (object), example: No\n",
    "    A binary variable, to indicate wheter the patients has hyperlipidemia.\n",
    "* BackPain (object), example: Yes\n",
    "    A binary variable, to indicate whether the patient has chronic back pain\n",
    "* Anxiety (float64), example: 1.0\n",
    "    A binary variable, to indicate whether the patient has an anxiety disorder.\n",
    "* Allergic_rhinitis (object), example: Yes\n",
    "    A binary variable, to indicate whether the patient has allergic rhinitis.\n",
    "* Reflux_esophagitis (object), example: No\n",
    "    A binary variable, to indicate whether the patient has reflux esophagitis.\n",
    "* Asthma (object), example: Yes\n",
    "    A binary variable, to indicate whether the patient has asthma.\n",
    "* Services (object), example: Blood Work\n",
    "    This column is the primary service the patient received while hospitalized.\n",
    "* Initial_days (float64), example: 10.585770\n",
    "    This is the number of days the patient stayed in the hostipal during the initial visit. \n",
    "* TotalCharge (float64), example: 3191.048774\n",
    "    Here is the total amount charged to the patient daily. This value reflects an average per patient based on the total charge divided by the number of days hospitalized. \n",
    "* Additional_charges (float64), example: 17939.403420\n",
    "    This column is the average amount charged to the patient for miscellaneous procedures, treatments, medicines, anesthesiology.\n",
    "* Item1 (int64), example: 3\n",
    "    For this column the variables represent responses to an eight-question survey asking customers to rate the importance of various factors/surfaces on a scale of 1 to 8. The question is for Timely admission.\n",
    "* Item2 (int64), example: 3\n",
    "    For this column the variables represent responses to an eight-question survey asking customers to rate the importance of various factors/surfaces on a scale of 1 to 8. The question is for Timely treatment.\n",
    "* Item3 (int64), example: 2\n",
    "    For this column the variables represent responses to an eight-question survey asking customers to rate the importance of various factors/surfaces on a scale of 1 to 8. The question is for Timely visits. \n",
    "* Item4 (int64), example: 2\n",
    "    For this column the variables represent responses to an eight-question survey asking customers to rate the importance of various factors/surfaces on a scale of 1 to 8. The question is for Reliability.\n",
    "* Item5 (int64), example: 4\n",
    "    For this column the variables represent responses to an eight-question survey asking customers to rate the importance of various factors/surfaces on a scale of 1 to 8. The question is for Options.\n",
    "* Item6 (int64), example: 3\n",
    "    For this column the variables represent responses to an eight-question survey asking customers to rate the importance of various factors/surfaces on a scale of 1 to 8. The question is for Hours of treatment.\n",
    "* Item7 (int64), example: 3\n",
    "    For this column the variables represent responses to an eight-question survey asking customers to rate the importance of various factors/surfaces on a scale of 1 to 8. The question is for Courteous stff.\n",
    "* Item8 (int64), example: 4\n",
    "    For this column the variables represent responses to an eight-question survey asking customers to rate the importance of various factors/surfaces on a scale of 1 to 8. The question is for Evidence of active listening from doctor. "
   ]
  },
  {
   "cell_type": "markdown",
   "metadata": {},
   "source": [
    "# C1: Plan to Assess Quality Of Data\n",
    "Python will be used for all the cleaning of the data throughout the whole project. First, it will start with displaying the table by using the .head() function to see if anything jumps out to me right away with the data. Then, after to gather information about the columns I will use the .info() method to get the types of each of the columns to ensure that each column is the correct data type and fix any that are not the correct datatype. For the columns that require unique data values, like Customer_id, interaction, and UID, we will use .duplicate() function to make sure that these columns do not have any duplicate rows, as we need these columns to be unique.Next, we will use the .describe() function to get a statistical summary of the data to see if anything stands out and if it does will make a graph to see if there are any. Finally, we will use the .isnull() and .sum() function to see if there are any null values in the data and if there are any null values we will replace them with the mean or median of the column. "
   ]
  },
  {
   "cell_type": "markdown",
   "metadata": {},
   "source": [
    "# C2: Justification of Approach\n",
    "The methods that will be used above are important for the analytics process, as cleaning is an important step in preparing the data for analysis. By using the functions above we can identify any problems that we will face later in the analysis. First, by looking at the data types of the columns with the info() function, we can see if there is any column that is using the incorrect data type and fix it before we start. Next, it is necessary to detect any duplicate rows on the columns that require unique entries as identifiers for patients should not be having duplicate values. Here we can use the duplicate() function to see if there are any duplicate rows in the data. Then, another important thing to look for before starting analysis is for outliers in the data. If we do not deal with outliers our analysis and visualizations are going to be off and not accurate because of these outliers, so they should be found and dealt with. Finally, the last step is to look for any null values in the data, as null values can lead to misrepresentation of the data. By using the isnull() and sum() function we can see if there are any null values in the data and if there are any we can replace them with the mean or median of the column."
   ]
  },
  {
   "cell_type": "markdown",
   "metadata": {},
   "source": [
    "# C3: Justification of Tools\n",
    "For all the data cleaning needs and visualizations were created using only Python. Python was all that was needed to gather information about the tables and to clean the data from the dataframe. The two packages that were used in order to help with the cleaning of the data were Numpy and Pandas. Numpy provides functions that are useful when transforming data and Pandas was used to create a dataframe from the CSV file. After, that it made it easy to clean the data and gather information from the dataframe. "
   ]
  },
  {
   "cell_type": "markdown",
   "metadata": {},
   "source": [
    "# C4: Provide the Code"
   ]
  },
  {
   "cell_type": "code",
   "metadata": {
    "ExecuteTime": {
     "end_time": "2024-05-30T06:38:41.089825Z",
     "start_time": "2024-05-30T06:38:41.086505Z"
    }
   },
   "source": [
    "# First import all the necessary libraries \n",
    "import pandas as pd\n",
    "import numpy as np\n",
    "import matplotlib.pyplot as plt\n",
    "import seaborn as sns "
   ],
   "outputs": [],
   "execution_count": 27
  },
  {
   "cell_type": "code",
   "metadata": {
    "ExecuteTime": {
     "end_time": "2024-05-30T06:38:44.329866Z",
     "start_time": "2024-05-30T06:38:44.249710Z"
    }
   },
   "source": [
    "# create the dataframe and make a copy of it.\n",
    "medical_data = pd.read_csv('medical_raw_data.csv', index_col=0)\n",
    "medical_data_copy = medical_data.copy()\n",
    "medical_data_copy.head(5)"
   ],
   "outputs": [
    {
     "data": {
      "text/plain": [
       "   CaseOrder Customer_id                           Interaction  \\\n",
       "1          1     C412403  8cd49b13-f45a-4b47-a2bd-173ffa932c2f   \n",
       "2          2     Z919181  d2450b70-0337-4406-bdbb-bc1037f1734c   \n",
       "3          3     F995323  a2057123-abf5-4a2c-abad-8ffe33512562   \n",
       "4          4     A879973  1dec528d-eb34-4079-adce-0d7a40e82205   \n",
       "5          5     C544523  5885f56b-d6da-43a3-8760-83583af94266   \n",
       "\n",
       "                                UID          City State        County    Zip  \\\n",
       "1  3a83ddb66e2ae73798bdf1d705dc0932           Eva    AL        Morgan  35621   \n",
       "2  176354c5eef714957d486009feabf195      Marianna    FL       Jackson  32446   \n",
       "3  e19a0fa00aeda885b8a436757e889bc9   Sioux Falls    SD     Minnehaha  57110   \n",
       "4  cd17d7b6d152cb6f23957346d11c3f07  New Richland    MN        Waseca  56072   \n",
       "5  d2f0425877b10ed6bb381f3e2579424a    West Point    VA  King William  23181   \n",
       "\n",
       "        Lat       Lng  ...  TotalCharge Additional_charges Item1 Item2  Item3  \\\n",
       "1  34.34960 -86.72508  ...  3191.048774       17939.403420     3     3      2   \n",
       "2  30.84513 -85.22907  ...  4214.905346       17612.998120     3     4      3   \n",
       "3  43.54321 -96.63772  ...  2177.586768       17505.192460     2     4      4   \n",
       "4  43.89744 -93.51479  ...  2465.118965       12993.437350     3     5      5   \n",
       "5  37.59894 -76.88958  ...  1885.655137        3716.525786     2     1      3   \n",
       "\n",
       "   Item4 Item5 Item6  Item7 Item8  \n",
       "1      2     4     3      3     4  \n",
       "2      4     4     4      3     3  \n",
       "3      4     3     4      3     3  \n",
       "4      3     4     5      5     5  \n",
       "5      3     5     3      4     3  \n",
       "\n",
       "[5 rows x 52 columns]"
      ],
      "text/html": [
       "<div>\n",
       "<style scoped>\n",
       "    .dataframe tbody tr th:only-of-type {\n",
       "        vertical-align: middle;\n",
       "    }\n",
       "\n",
       "    .dataframe tbody tr th {\n",
       "        vertical-align: top;\n",
       "    }\n",
       "\n",
       "    .dataframe thead th {\n",
       "        text-align: right;\n",
       "    }\n",
       "</style>\n",
       "<table border=\"1\" class=\"dataframe\">\n",
       "  <thead>\n",
       "    <tr style=\"text-align: right;\">\n",
       "      <th></th>\n",
       "      <th>CaseOrder</th>\n",
       "      <th>Customer_id</th>\n",
       "      <th>Interaction</th>\n",
       "      <th>UID</th>\n",
       "      <th>City</th>\n",
       "      <th>State</th>\n",
       "      <th>County</th>\n",
       "      <th>Zip</th>\n",
       "      <th>Lat</th>\n",
       "      <th>Lng</th>\n",
       "      <th>...</th>\n",
       "      <th>TotalCharge</th>\n",
       "      <th>Additional_charges</th>\n",
       "      <th>Item1</th>\n",
       "      <th>Item2</th>\n",
       "      <th>Item3</th>\n",
       "      <th>Item4</th>\n",
       "      <th>Item5</th>\n",
       "      <th>Item6</th>\n",
       "      <th>Item7</th>\n",
       "      <th>Item8</th>\n",
       "    </tr>\n",
       "  </thead>\n",
       "  <tbody>\n",
       "    <tr>\n",
       "      <th>1</th>\n",
       "      <td>1</td>\n",
       "      <td>C412403</td>\n",
       "      <td>8cd49b13-f45a-4b47-a2bd-173ffa932c2f</td>\n",
       "      <td>3a83ddb66e2ae73798bdf1d705dc0932</td>\n",
       "      <td>Eva</td>\n",
       "      <td>AL</td>\n",
       "      <td>Morgan</td>\n",
       "      <td>35621</td>\n",
       "      <td>34.34960</td>\n",
       "      <td>-86.72508</td>\n",
       "      <td>...</td>\n",
       "      <td>3191.048774</td>\n",
       "      <td>17939.403420</td>\n",
       "      <td>3</td>\n",
       "      <td>3</td>\n",
       "      <td>2</td>\n",
       "      <td>2</td>\n",
       "      <td>4</td>\n",
       "      <td>3</td>\n",
       "      <td>3</td>\n",
       "      <td>4</td>\n",
       "    </tr>\n",
       "    <tr>\n",
       "      <th>2</th>\n",
       "      <td>2</td>\n",
       "      <td>Z919181</td>\n",
       "      <td>d2450b70-0337-4406-bdbb-bc1037f1734c</td>\n",
       "      <td>176354c5eef714957d486009feabf195</td>\n",
       "      <td>Marianna</td>\n",
       "      <td>FL</td>\n",
       "      <td>Jackson</td>\n",
       "      <td>32446</td>\n",
       "      <td>30.84513</td>\n",
       "      <td>-85.22907</td>\n",
       "      <td>...</td>\n",
       "      <td>4214.905346</td>\n",
       "      <td>17612.998120</td>\n",
       "      <td>3</td>\n",
       "      <td>4</td>\n",
       "      <td>3</td>\n",
       "      <td>4</td>\n",
       "      <td>4</td>\n",
       "      <td>4</td>\n",
       "      <td>3</td>\n",
       "      <td>3</td>\n",
       "    </tr>\n",
       "    <tr>\n",
       "      <th>3</th>\n",
       "      <td>3</td>\n",
       "      <td>F995323</td>\n",
       "      <td>a2057123-abf5-4a2c-abad-8ffe33512562</td>\n",
       "      <td>e19a0fa00aeda885b8a436757e889bc9</td>\n",
       "      <td>Sioux Falls</td>\n",
       "      <td>SD</td>\n",
       "      <td>Minnehaha</td>\n",
       "      <td>57110</td>\n",
       "      <td>43.54321</td>\n",
       "      <td>-96.63772</td>\n",
       "      <td>...</td>\n",
       "      <td>2177.586768</td>\n",
       "      <td>17505.192460</td>\n",
       "      <td>2</td>\n",
       "      <td>4</td>\n",
       "      <td>4</td>\n",
       "      <td>4</td>\n",
       "      <td>3</td>\n",
       "      <td>4</td>\n",
       "      <td>3</td>\n",
       "      <td>3</td>\n",
       "    </tr>\n",
       "    <tr>\n",
       "      <th>4</th>\n",
       "      <td>4</td>\n",
       "      <td>A879973</td>\n",
       "      <td>1dec528d-eb34-4079-adce-0d7a40e82205</td>\n",
       "      <td>cd17d7b6d152cb6f23957346d11c3f07</td>\n",
       "      <td>New Richland</td>\n",
       "      <td>MN</td>\n",
       "      <td>Waseca</td>\n",
       "      <td>56072</td>\n",
       "      <td>43.89744</td>\n",
       "      <td>-93.51479</td>\n",
       "      <td>...</td>\n",
       "      <td>2465.118965</td>\n",
       "      <td>12993.437350</td>\n",
       "      <td>3</td>\n",
       "      <td>5</td>\n",
       "      <td>5</td>\n",
       "      <td>3</td>\n",
       "      <td>4</td>\n",
       "      <td>5</td>\n",
       "      <td>5</td>\n",
       "      <td>5</td>\n",
       "    </tr>\n",
       "    <tr>\n",
       "      <th>5</th>\n",
       "      <td>5</td>\n",
       "      <td>C544523</td>\n",
       "      <td>5885f56b-d6da-43a3-8760-83583af94266</td>\n",
       "      <td>d2f0425877b10ed6bb381f3e2579424a</td>\n",
       "      <td>West Point</td>\n",
       "      <td>VA</td>\n",
       "      <td>King William</td>\n",
       "      <td>23181</td>\n",
       "      <td>37.59894</td>\n",
       "      <td>-76.88958</td>\n",
       "      <td>...</td>\n",
       "      <td>1885.655137</td>\n",
       "      <td>3716.525786</td>\n",
       "      <td>2</td>\n",
       "      <td>1</td>\n",
       "      <td>3</td>\n",
       "      <td>3</td>\n",
       "      <td>5</td>\n",
       "      <td>3</td>\n",
       "      <td>4</td>\n",
       "      <td>3</td>\n",
       "    </tr>\n",
       "  </tbody>\n",
       "</table>\n",
       "<p>5 rows × 52 columns</p>\n",
       "</div>"
      ]
     },
     "execution_count": 28,
     "metadata": {},
     "output_type": "execute_result"
    }
   ],
   "execution_count": 28
  },
  {
   "cell_type": "code",
   "metadata": {
    "ExecuteTime": {
     "end_time": "2024-05-30T06:38:46.807881Z",
     "start_time": "2024-05-30T06:38:46.787903Z"
    }
   },
   "source": [
    "# Check the data types of the columns and size of the dataset.\n",
    "medical_data_copy.info()"
   ],
   "outputs": [
    {
     "name": "stdout",
     "output_type": "stream",
     "text": [
      "<class 'pandas.core.frame.DataFrame'>\n",
      "Index: 10000 entries, 1 to 10000\n",
      "Data columns (total 52 columns):\n",
      " #   Column              Non-Null Count  Dtype  \n",
      "---  ------              --------------  -----  \n",
      " 0   CaseOrder           10000 non-null  int64  \n",
      " 1   Customer_id         10000 non-null  object \n",
      " 2   Interaction         10000 non-null  object \n",
      " 3   UID                 10000 non-null  object \n",
      " 4   City                10000 non-null  object \n",
      " 5   State               10000 non-null  object \n",
      " 6   County              10000 non-null  object \n",
      " 7   Zip                 10000 non-null  int64  \n",
      " 8   Lat                 10000 non-null  float64\n",
      " 9   Lng                 10000 non-null  float64\n",
      " 10  Population          10000 non-null  int64  \n",
      " 11  Area                10000 non-null  object \n",
      " 12  Timezone            10000 non-null  object \n",
      " 13  Job                 10000 non-null  object \n",
      " 14  Children            7412 non-null   float64\n",
      " 15  Age                 7586 non-null   float64\n",
      " 16  Education           10000 non-null  object \n",
      " 17  Employment          10000 non-null  object \n",
      " 18  Income              7536 non-null   float64\n",
      " 19  Marital             10000 non-null  object \n",
      " 20  Gender              10000 non-null  object \n",
      " 21  ReAdmis             10000 non-null  object \n",
      " 22  VitD_levels         10000 non-null  float64\n",
      " 23  Doc_visits          10000 non-null  int64  \n",
      " 24  Full_meals_eaten    10000 non-null  int64  \n",
      " 25  VitD_supp           10000 non-null  int64  \n",
      " 26  Soft_drink          7533 non-null   object \n",
      " 27  Initial_admin       10000 non-null  object \n",
      " 28  HighBlood           10000 non-null  object \n",
      " 29  Stroke              10000 non-null  object \n",
      " 30  Complication_risk   10000 non-null  object \n",
      " 31  Overweight          9018 non-null   float64\n",
      " 32  Arthritis           10000 non-null  object \n",
      " 33  Diabetes            10000 non-null  object \n",
      " 34  Hyperlipidemia      10000 non-null  object \n",
      " 35  BackPain            10000 non-null  object \n",
      " 36  Anxiety             9016 non-null   float64\n",
      " 37  Allergic_rhinitis   10000 non-null  object \n",
      " 38  Reflux_esophagitis  10000 non-null  object \n",
      " 39  Asthma              10000 non-null  object \n",
      " 40  Services            10000 non-null  object \n",
      " 41  Initial_days        8944 non-null   float64\n",
      " 42  TotalCharge         10000 non-null  float64\n",
      " 43  Additional_charges  10000 non-null  float64\n",
      " 44  Item1               10000 non-null  int64  \n",
      " 45  Item2               10000 non-null  int64  \n",
      " 46  Item3               10000 non-null  int64  \n",
      " 47  Item4               10000 non-null  int64  \n",
      " 48  Item5               10000 non-null  int64  \n",
      " 49  Item6               10000 non-null  int64  \n",
      " 50  Item7               10000 non-null  int64  \n",
      " 51  Item8               10000 non-null  int64  \n",
      "dtypes: float64(11), int64(14), object(27)\n",
      "memory usage: 4.0+ MB\n"
     ]
    }
   ],
   "execution_count": 29
  },
  {
   "cell_type": "markdown",
   "metadata": {},
   "source": [
    "Now going to look at the columns to see if they are suitable to change into categorical data types. The following columns we will look at are Area, Timezone, Education, and Employment. "
   ]
  },
  {
   "cell_type": "code",
   "metadata": {
    "ExecuteTime": {
     "end_time": "2024-05-30T06:38:49.168290Z",
     "start_time": "2024-05-30T06:38:49.163582Z"
    }
   },
   "source": [
    "# Look at the column Gender\n",
    "medical_data_copy['Gender'].value_counts()"
   ],
   "outputs": [
    {
     "data": {
      "text/plain": [
       "Gender\n",
       "Female                  5018\n",
       "Male                    4768\n",
       "Prefer not to answer     214\n",
       "Name: count, dtype: int64"
      ]
     },
     "execution_count": 30,
     "metadata": {},
     "output_type": "execute_result"
    }
   ],
   "execution_count": 30
  },
  {
   "cell_type": "code",
   "metadata": {
    "ExecuteTime": {
     "end_time": "2024-05-30T06:38:50.961307Z",
     "start_time": "2024-05-30T06:38:50.955117Z"
    }
   },
   "source": [
    "# Checking column Area to see if suitable for categorical data\n",
    "medical_data_copy['Area'].value_counts()"
   ],
   "outputs": [
    {
     "data": {
      "text/plain": [
       "Area\n",
       "Rural       3369\n",
       "Suburban    3328\n",
       "Urban       3303\n",
       "Name: count, dtype: int64"
      ]
     },
     "execution_count": 31,
     "metadata": {},
     "output_type": "execute_result"
    }
   ],
   "execution_count": 31
  },
  {
   "cell_type": "code",
   "metadata": {
    "ExecuteTime": {
     "end_time": "2024-05-30T06:38:52.807121Z",
     "start_time": "2024-05-30T06:38:52.800780Z"
    }
   },
   "source": [
    "# Checking column Timezone to see if suitable for categorical data\n",
    "medical_data_copy['Timezone'].value_counts()"
   ],
   "outputs": [
    {
     "data": {
      "text/plain": [
       "Timezone\n",
       "America/New_York                  3889\n",
       "America/Chicago                   3771\n",
       "America/Los_Angeles                937\n",
       "America/Denver                     612\n",
       "America/Detroit                    262\n",
       "America/Indiana/Indianapolis       151\n",
       "America/Phoenix                    100\n",
       "America/Boise                       86\n",
       "America/Anchorage                   50\n",
       "America/Puerto_Rico                 43\n",
       "Pacific/Honolulu                    34\n",
       "America/Menominee                   14\n",
       "America/Nome                        12\n",
       "America/Indiana/Vincennes            8\n",
       "America/Kentucky/Louisville          6\n",
       "America/Sitka                        6\n",
       "America/Toronto                      5\n",
       "America/Indiana/Marengo              3\n",
       "America/Indiana/Tell_City            3\n",
       "America/North_Dakota/Beulah          2\n",
       "America/Yakutat                      1\n",
       "America/Indiana/Winamac              1\n",
       "America/Indiana/Knox                 1\n",
       "America/North_Dakota/New_Salem       1\n",
       "America/Indiana/Vevay                1\n",
       "America/Adak                         1\n",
       "Name: count, dtype: int64"
      ]
     },
     "execution_count": 32,
     "metadata": {},
     "output_type": "execute_result"
    }
   ],
   "execution_count": 32
  },
  {
   "cell_type": "code",
   "metadata": {
    "ExecuteTime": {
     "end_time": "2024-05-30T06:38:56.615710Z",
     "start_time": "2024-05-30T06:38:56.608376Z"
    }
   },
   "source": [
    "# Checking column Education to see if suitable for categorical data\n",
    "medical_data_copy['Education'].value_counts()"
   ],
   "outputs": [
    {
     "data": {
      "text/plain": [
       "Education\n",
       "Regular High School Diploma                 2444\n",
       "Bachelor's Degree                           1724\n",
       "Some College, 1 or More Years, No Degree    1484\n",
       "9th Grade to 12th Grade, No Diploma          832\n",
       "Associate's Degree                           797\n",
       "Master's Degree                              701\n",
       "Some College, Less than 1 Year               642\n",
       "Nursery School to 8th Grade                  552\n",
       "GED or Alternative Credential                389\n",
       "Professional School Degree                   208\n",
       "No Schooling Completed                       133\n",
       "Doctorate Degree                              94\n",
       "Name: count, dtype: int64"
      ]
     },
     "execution_count": 34,
     "metadata": {},
     "output_type": "execute_result"
    }
   ],
   "execution_count": 34
  },
  {
   "cell_type": "code",
   "metadata": {
    "ExecuteTime": {
     "end_time": "2024-05-30T06:38:58.495218Z",
     "start_time": "2024-05-30T06:38:58.490999Z"
    }
   },
   "source": [
    "# Checking column Employment to see if suitable for categorical data\n",
    "medical_data_copy['Employment'].value_counts()"
   ],
   "outputs": [
    {
     "data": {
      "text/plain": [
       "Employment\n",
       "Full Time     6029\n",
       "Student       1017\n",
       "Part Time      991\n",
       "Unemployed     983\n",
       "Retired        980\n",
       "Name: count, dtype: int64"
      ]
     },
     "execution_count": 35,
     "metadata": {},
     "output_type": "execute_result"
    }
   ],
   "execution_count": 35
  },
  {
   "cell_type": "markdown",
   "metadata": {},
   "source": [
    "Now we are going to check on the columns Children, Age, and Income to make sure no column has unreasonable bounds."
   ]
  },
  {
   "cell_type": "code",
   "metadata": {
    "ExecuteTime": {
     "end_time": "2024-05-30T06:39:01.383093Z",
     "start_time": "2024-05-30T06:39:01.376595Z"
    }
   },
   "source": [
    "# Check if Age is within reasonable range.\n",
    "medical_data_copy['Age'].describe()"
   ],
   "outputs": [
    {
     "data": {
      "text/plain": [
       "count    7586.000000\n",
       "mean       53.295676\n",
       "std        20.659182\n",
       "min        18.000000\n",
       "25%        35.000000\n",
       "50%        53.000000\n",
       "75%        71.000000\n",
       "max        89.000000\n",
       "Name: Age, dtype: float64"
      ]
     },
     "execution_count": 36,
     "metadata": {},
     "output_type": "execute_result"
    }
   ],
   "execution_count": 36
  },
  {
   "metadata": {
    "ExecuteTime": {
     "end_time": "2024-05-30T06:39:03.555778Z",
     "start_time": "2024-05-30T06:39:03.415908Z"
    }
   },
   "cell_type": "code",
   "source": [
    "# create a boxplot to see if there are any outliers in the data\n",
    "sns.boxplot(x=medical_data_copy['Age'])"
   ],
   "outputs": [
    {
     "data": {
      "text/plain": [
       "<Axes: xlabel='Age'>"
      ]
     },
     "execution_count": 37,
     "metadata": {},
     "output_type": "execute_result"
    },
    {
     "data": {
      "text/plain": [
       "<Figure size 640x480 with 1 Axes>"
      ],
      "image/png": "[encoded data removed]"
     },
     "metadata": {},
     "output_type": "display_data"
    }
   ],
   "execution_count": 37
  },
  {
   "cell_type": "code",
   "metadata": {
    "ExecuteTime": {
     "end_time": "2024-05-30T06:39:06.851992Z",
     "start_time": "2024-05-30T06:39:06.847155Z"
    }
   },
   "source": [
    "# Check if Children is within reasonable range.\n",
    "medical_data_copy['Children'].describe()"
   ],
   "outputs": [
    {
     "data": {
      "text/plain": [
       "count    7412.000000\n",
       "mean        2.098219\n",
       "std         2.155427\n",
       "min         0.000000\n",
       "25%         0.000000\n",
       "50%         1.000000\n",
       "75%         3.000000\n",
       "max        10.000000\n",
       "Name: Children, dtype: float64"
      ]
     },
     "execution_count": 38,
     "metadata": {},
     "output_type": "execute_result"
    }
   ],
   "execution_count": 38
  },
  {
   "metadata": {
    "ExecuteTime": {
     "end_time": "2024-05-30T06:39:09.273445Z",
     "start_time": "2024-05-30T06:39:09.093155Z"
    }
   },
   "cell_type": "code",
   "source": [
    "#plot a boxplot to see if there are any outliers in the data\n",
    "sns.boxplot(x=medical_data_copy['Children'])"
   ],
   "outputs": [
    {
     "data": {
      "text/plain": [
       "<Axes: xlabel='Children'>"
      ]
     },
     "execution_count": 39,
     "metadata": {},
     "output_type": "execute_result"
    },
    {
     "data": {
      "text/plain": [
       "<Figure size 640x480 with 1 Axes>"
      ],
      "image/png": "[encoded data removed]"
     },
     "metadata": {},
     "output_type": "display_data"
    }
   ],
   "execution_count": 39
  },
  {
   "cell_type": "code",
   "metadata": {
    "ExecuteTime": {
     "end_time": "2024-05-30T06:39:11.412407Z",
     "start_time": "2024-05-30T06:39:11.404990Z"
    }
   },
   "source": [
    "# Check if Income is within reasonable range.\n",
    "medical_data_copy['Income'].describe()"
   ],
   "outputs": [
    {
     "data": {
      "text/plain": [
       "count      7536.000000\n",
       "mean      40484.438268\n",
       "std       28664.861050\n",
       "min         154.080000\n",
       "25%       19450.792500\n",
       "50%       33942.280000\n",
       "75%       54075.235000\n",
       "max      207249.130000\n",
       "Name: Income, dtype: float64"
      ]
     },
     "execution_count": 40,
     "metadata": {},
     "output_type": "execute_result"
    }
   ],
   "execution_count": 40
  },
  {
   "metadata": {
    "ExecuteTime": {
     "end_time": "2024-05-30T06:39:15.281757Z",
     "start_time": "2024-05-30T06:39:15.192882Z"
    }
   },
   "cell_type": "code",
   "source": [
    "# create boxplot to see if there are any outliers in the data\n",
    "sns.boxplot(x=medical_data_copy['Income'])"
   ],
   "outputs": [
    {
     "data": {
      "text/plain": [
       "<Axes: xlabel='Income'>"
      ]
     },
     "execution_count": 41,
     "metadata": {},
     "output_type": "execute_result"
    },
    {
     "data": {
      "text/plain": [
       "<Figure size 640x480 with 1 Axes>"
      ],
      "image/png": "[encoded data removed]"
     },
     "metadata": {},
     "output_type": "display_data"
    }
   ],
   "execution_count": 41
  },
  {
   "cell_type": "markdown",
   "metadata": {},
   "source": [
    "Now to check on the last 8 items to make sure that the data is within 1-8."
   ]
  },
  {
   "cell_type": "code",
   "metadata": {
    "ExecuteTime": {
     "end_time": "2024-05-30T06:39:19.227348Z",
     "start_time": "2024-05-30T06:39:19.223013Z"
    }
   },
   "source": [
    "# Verify to make sure its 1-8\n",
    "medical_data_copy['Item1'].value_counts()"
   ],
   "outputs": [
    {
     "data": {
      "text/plain": [
       "Item1\n",
       "4    3455\n",
       "3    3404\n",
       "5    1377\n",
       "2    1315\n",
       "6     225\n",
       "1     213\n",
       "7      10\n",
       "8       1\n",
       "Name: count, dtype: int64"
      ]
     },
     "execution_count": 42,
     "metadata": {},
     "output_type": "execute_result"
    }
   ],
   "execution_count": 42
  },
  {
   "cell_type": "code",
   "metadata": {
    "ExecuteTime": {
     "end_time": "2024-05-30T06:39:23.380894Z",
     "start_time": "2024-05-30T06:39:23.374354Z"
    }
   },
   "source": [
    "# Verify Item2 to make sure its 1-8\n",
    "medical_data_copy['Item2'].value_counts()"
   ],
   "outputs": [
    {
     "data": {
      "text/plain": [
       "Item2\n",
       "3    3439\n",
       "4    3351\n",
       "5    1421\n",
       "2    1360\n",
       "1     213\n",
       "6     204\n",
       "7      12\n",
       "Name: count, dtype: int64"
      ]
     },
     "execution_count": 44,
     "metadata": {},
     "output_type": "execute_result"
    }
   ],
   "execution_count": 44
  },
  {
   "cell_type": "code",
   "metadata": {
    "ExecuteTime": {
     "end_time": "2024-05-30T06:39:25.161193Z",
     "start_time": "2024-05-30T06:39:25.155009Z"
    }
   },
   "source": [
    "# Verify Item3 to make sure its 1-8\n",
    "medical_data_copy['Item3'].value_counts()"
   ],
   "outputs": [
    {
     "data": {
      "text/plain": [
       "Item3\n",
       "4    3464\n",
       "3    3379\n",
       "5    1358\n",
       "2    1356\n",
       "6     220\n",
       "1     211\n",
       "7      11\n",
       "8       1\n",
       "Name: count, dtype: int64"
      ]
     },
     "execution_count": 45,
     "metadata": {},
     "output_type": "execute_result"
    }
   ],
   "execution_count": 45
  },
  {
   "cell_type": "code",
   "metadata": {
    "ExecuteTime": {
     "end_time": "2024-05-30T06:39:27.865537Z",
     "start_time": "2024-05-30T06:39:27.859252Z"
    }
   },
   "source": [
    "# Verify Item4 to make sure its 1-8\n",
    "medical_data_copy['Item4'].value_counts()"
   ],
   "outputs": [
    {
     "data": {
      "text/plain": [
       "Item4\n",
       "3    3422\n",
       "4    3394\n",
       "5    1388\n",
       "2    1346\n",
       "6     231\n",
       "1     207\n",
       "7      12\n",
       "Name: count, dtype: int64"
      ]
     },
     "execution_count": 46,
     "metadata": {},
     "output_type": "execute_result"
    }
   ],
   "execution_count": 46
  },
  {
   "cell_type": "code",
   "metadata": {
    "ExecuteTime": {
     "end_time": "2024-05-30T06:39:29.864279Z",
     "start_time": "2024-05-30T06:39:29.860438Z"
    }
   },
   "source": [
    "# verify Item5 to make sure its 1-8\n",
    "medical_data_copy['Item5'].value_counts()"
   ],
   "outputs": [
    {
     "data": {
      "text/plain": [
       "Item5\n",
       "4    3446\n",
       "3    3423\n",
       "2    1380\n",
       "5    1308\n",
       "6     219\n",
       "1     211\n",
       "7      13\n",
       "Name: count, dtype: int64"
      ]
     },
     "execution_count": 47,
     "metadata": {},
     "output_type": "execute_result"
    }
   ],
   "execution_count": 47
  },
  {
   "cell_type": "code",
   "metadata": {
    "ExecuteTime": {
     "end_time": "2024-05-30T06:39:31.770475Z",
     "start_time": "2024-05-30T06:39:31.763480Z"
    }
   },
   "source": [
    "# Verify Item6 to make sure its 1-8\n",
    "medical_data_copy['Item6'].value_counts()"
   ],
   "outputs": [
    {
     "data": {
      "text/plain": [
       "Item6\n",
       "4    3464\n",
       "3    3371\n",
       "5    1403\n",
       "2    1319\n",
       "6     220\n",
       "1     213\n",
       "7      10\n",
       "Name: count, dtype: int64"
      ]
     },
     "execution_count": 48,
     "metadata": {},
     "output_type": "execute_result"
    }
   ],
   "execution_count": 48
  },
  {
   "cell_type": "code",
   "metadata": {
    "ExecuteTime": {
     "end_time": "2024-05-30T06:39:34.415085Z",
     "start_time": "2024-05-30T06:39:34.409057Z"
    }
   },
   "source": [
    "# Verify Item7 to make sure its 1-8\n",
    "medical_data_copy['Item7'].value_counts()"
   ],
   "outputs": [
    {
     "data": {
      "text/plain": [
       "Item7\n",
       "4    3487\n",
       "3    3456\n",
       "2    1345\n",
       "5    1274\n",
       "1     215\n",
       "6     212\n",
       "7      11\n",
       "Name: count, dtype: int64"
      ]
     },
     "execution_count": 49,
     "metadata": {},
     "output_type": "execute_result"
    }
   ],
   "execution_count": 49
  },
  {
   "cell_type": "code",
   "metadata": {
    "ExecuteTime": {
     "end_time": "2024-05-30T06:39:39.229193Z",
     "start_time": "2024-05-30T06:39:39.224609Z"
    }
   },
   "source": [
    "# Verify Item8 to make sure its 1-8\n",
    "medical_data_copy['Item8'].value_counts()"
   ],
   "outputs": [
    {
     "data": {
      "text/plain": [
       "Item8\n",
       "3    3401\n",
       "4    3337\n",
       "5    1429\n",
       "2    1391\n",
       "6     221\n",
       "1     209\n",
       "7      12\n",
       "Name: count, dtype: int64"
      ]
     },
     "execution_count": 50,
     "metadata": {},
     "output_type": "execute_result"
    }
   ],
   "execution_count": 50
  },
  {
   "cell_type": "code",
   "metadata": {
    "ExecuteTime": {
     "end_time": "2024-05-30T06:39:43.005712Z",
     "start_time": "2024-05-30T06:39:42.996322Z"
    }
   },
   "source": [
    "# Check timezone for data\n",
    "medical_data_copy['Timezone'].value_counts()\n"
   ],
   "outputs": [
    {
     "data": {
      "text/plain": [
       "Timezone\n",
       "America/New_York                  3889\n",
       "America/Chicago                   3771\n",
       "America/Los_Angeles                937\n",
       "America/Denver                     612\n",
       "America/Detroit                    262\n",
       "America/Indiana/Indianapolis       151\n",
       "America/Phoenix                    100\n",
       "America/Boise                       86\n",
       "America/Anchorage                   50\n",
       "America/Puerto_Rico                 43\n",
       "Pacific/Honolulu                    34\n",
       "America/Menominee                   14\n",
       "America/Nome                        12\n",
       "America/Indiana/Vincennes            8\n",
       "America/Kentucky/Louisville          6\n",
       "America/Sitka                        6\n",
       "America/Toronto                      5\n",
       "America/Indiana/Marengo              3\n",
       "America/Indiana/Tell_City            3\n",
       "America/North_Dakota/Beulah          2\n",
       "America/Yakutat                      1\n",
       "America/Indiana/Winamac              1\n",
       "America/Indiana/Knox                 1\n",
       "America/North_Dakota/New_Salem       1\n",
       "America/Indiana/Vevay                1\n",
       "America/Adak                         1\n",
       "Name: count, dtype: int64"
      ]
     },
     "execution_count": 51,
     "metadata": {},
     "output_type": "execute_result"
    }
   ],
   "execution_count": 51
  },
  {
   "cell_type": "code",
   "metadata": {
    "ExecuteTime": {
     "end_time": "2024-05-30T06:39:45.138014Z",
     "start_time": "2024-05-30T06:39:45.122080Z"
    }
   },
   "source": [
    "# Check for null values \n",
    "medical_data_copy.isnull().sum()"
   ],
   "outputs": [
    {
     "data": {
      "text/plain": [
       "CaseOrder                0\n",
       "Customer_id              0\n",
       "Interaction              0\n",
       "UID                      0\n",
       "City                     0\n",
       "State                    0\n",
       "County                   0\n",
       "Zip                      0\n",
       "Lat                      0\n",
       "Lng                      0\n",
       "Population               0\n",
       "Area                     0\n",
       "Timezone                 0\n",
       "Job                      0\n",
       "Children              2588\n",
       "Age                   2414\n",
       "Education                0\n",
       "Employment               0\n",
       "Income                2464\n",
       "Marital                  0\n",
       "Gender                   0\n",
       "ReAdmis                  0\n",
       "VitD_levels              0\n",
       "Doc_visits               0\n",
       "Full_meals_eaten         0\n",
       "VitD_supp                0\n",
       "Soft_drink            2467\n",
       "Initial_admin            0\n",
       "HighBlood                0\n",
       "Stroke                   0\n",
       "Complication_risk        0\n",
       "Overweight             982\n",
       "Arthritis                0\n",
       "Diabetes                 0\n",
       "Hyperlipidemia           0\n",
       "BackPain                 0\n",
       "Anxiety                984\n",
       "Allergic_rhinitis        0\n",
       "Reflux_esophagitis       0\n",
       "Asthma                   0\n",
       "Services                 0\n",
       "Initial_days          1056\n",
       "TotalCharge              0\n",
       "Additional_charges       0\n",
       "Item1                    0\n",
       "Item2                    0\n",
       "Item3                    0\n",
       "Item4                    0\n",
       "Item5                    0\n",
       "Item6                    0\n",
       "Item7                    0\n",
       "Item8                    0\n",
       "dtype: int64"
      ]
     },
     "execution_count": 52,
     "metadata": {},
     "output_type": "execute_result"
    }
   ],
   "execution_count": 52
  },
  {
   "cell_type": "code",
   "metadata": {
    "ExecuteTime": {
     "end_time": "2024-05-30T06:39:47.755504Z",
     "start_time": "2024-05-30T06:39:47.741685Z"
    }
   },
   "source": [
    "# Check which columns have duplicate data\n",
    "duplicate_columns = []\n",
    "\n",
    "for column in medical_data_copy.columns:\n",
    "    if medical_data_copy[column].duplicated().any():\n",
    "        duplicate_columns.append(column)\n",
    "\n",
    "print(\"Columns with duplicate data: \", duplicate_columns)"
   ],
   "outputs": [
    {
     "name": "stdout",
     "output_type": "stream",
     "text": [
      "Columns with duplicate data:  ['City', 'State', 'County', 'Zip', 'Lat', 'Lng', 'Population', 'Area', 'Timezone', 'Job', 'Children', 'Age', 'Education', 'Employment', 'Income', 'Marital', 'Gender', 'ReAdmis', 'Doc_visits', 'Full_meals_eaten', 'VitD_supp', 'Soft_drink', 'Initial_admin', 'HighBlood', 'Stroke', 'Complication_risk', 'Overweight', 'Arthritis', 'Diabetes', 'Hyperlipidemia', 'BackPain', 'Anxiety', 'Allergic_rhinitis', 'Reflux_esophagitis', 'Asthma', 'Services', 'Initial_days', 'Additional_charges', 'Item1', 'Item2', 'Item3', 'Item4', 'Item5', 'Item6', 'Item7', 'Item8']\n"
     ]
    }
   ],
   "execution_count": 53
  },
  {
   "cell_type": "markdown",
   "metadata": {},
   "source": [
    "Here we can see the columns that have duplicate data in them and just by looking at it the columns that require unique values is not on the list here. So, we can proceed with our cleaning techniques. "
   ]
  },
  {
   "cell_type": "code",
   "metadata": {
    "ExecuteTime": {
     "end_time": "2024-05-30T06:39:53.538618Z",
     "start_time": "2024-05-30T06:39:53.528131Z"
    }
   },
   "source": [
    "# Let's look at what columns have null values\n",
    "null_columns_counts = medical_data_copy.isnull().sum()\n",
    "null_columns_counts = null_columns_counts[null_columns_counts > 0]\n",
    "null_columns_counts"
   ],
   "outputs": [
    {
     "data": {
      "text/plain": [
       "Children        2588\n",
       "Age             2414\n",
       "Income          2464\n",
       "Soft_drink      2467\n",
       "Overweight       982\n",
       "Anxiety          984\n",
       "Initial_days    1056\n",
       "dtype: int64"
      ]
     },
     "execution_count": 54,
     "metadata": {},
     "output_type": "execute_result"
    }
   ],
   "execution_count": 54
  },
  {
   "cell_type": "markdown",
   "metadata": {},
   "source": [
    "# D1: Cleaning Findings\n",
    "Looking at the code from previous sections, it was revealed that there were issues in the data that need to be fixed in order to perform effective analysis on the data. The first, problem we are looking at is for the column Timezone it had 26 different timezones, so it should be standardized to just use the 9 US timezones. Then after standardizing the the timezone column, we can convert that column into a categorical data type. Next, the following columns were changed to categorical data type; Area, Education, Employment, Marital, Initial_admin, Complication_risk, and Services. These columns were changed because they have a set amount of choices making it perfect to change it to categorical data. Next, fixed gender column to \"F\", \"M\", \"NP\", so it's easier to read and keep track of since there is only 3 choices this column was also converted to categorical type. Finally, for the columns that had \"yes\" and \"no\" answer we are going to convert those into boolean to keep track of all them. Then, there are columns with null values, the columns are children, age, income, soft_drink, overweight, anxiety, initial_days these can easily be replaced with the mean of the column or the median of the column. Doing this will help fill in the missing data from the columns in order to perform analysis on it in the future. Lastly, we looked at the columns that had some outliers in the data, some of those columns were Income and Children. We will not drop the columns, but instead look at ways to make it work with the data so it will not impact the analysis in the future.\n"
   ]
  },
  {
   "cell_type": "markdown",
   "metadata": {},
   "source": [
    "# D2: Justification of Mitigation Methods\n",
    "For the columns Children, Age, Income, and Initial_days can be filled in with the mean or median for each column, this will be used to fill in the null values that are missing from these columns. Then, for the columns that are categorical like, Soft_drink, Overweight, and Anxiety, we will fill in the null values with the mode of the column.\n",
    "\n",
    "For the column timezone, there is going to be a standardized timezone for the columns. Instead of having a timezone for each individual city, we are going to divide them into the standard timezones that these cities fall into. To do this will create a dictionary with the standard timezones and putting the city into their respective timezones.\n",
    "\n",
    "For the Gender column we are going to change it to just 'M', 'F', 'NP', instead of the original, 'Male', 'Female', 'Prefer not to answer'. So we can then change this column into a categorical type.\n",
    "\n",
    "The columns with duplicate values, we do not need to do anything as it was okay for those columns to have duplicate values. The most important columns that need to be unique are the Customer_id, Interaction, and UID columns and we found no duplicates in those columns. \n",
    "\n",
    "The columns with some outliers were Age and Income and we will not drop the columns, but instead look at ways to make it work with the data so it will not impact the analysis in the future.\n",
    "\n",
    "Lastly, for all the float and integer columns that are more appropriately to be stored as categorical types will all be changed to categorical types.   "
   ]
  },
  {
   "cell_type": "markdown",
   "metadata": {},
   "source": [
    "# D3: Summary of the Outcomes \n",
    "Performing cleaning on the dataset will help with the overall process of the analysis. By cleaning the data, it will make it easier to work with and an important step in the data analysis process. First, by changing the variables into categorical data it restricts the potential values that can be entered into the column, forcing a standardized entry. We did this with the timezone column, where it was changed to a standard of 9 timezones instead of having 26 different timezones even though some of those cities share timezones. Filling in the missing values will help with any errors that it can cause in the future code when creating visualizations or analysis. For the columns with categorical data types for those we had to use the mode to fill in the missing values, as the mean and the median would not work. Having a standard convention for the columns will prevent having to look up each precise title throughout the whole project. "
   ]
  },
  {
   "metadata": {
    "ExecuteTime": {
     "end_time": "2024-05-30T06:42:18.786019Z",
     "start_time": "2024-05-30T06:42:18.778794Z"
    }
   },
   "cell_type": "code",
   "source": "medical_data_copy['Initial_admin'].head(10)",
   "outputs": [
    {
     "data": {
      "text/plain": [
       "1       Emergency Admission\n",
       "2       Emergency Admission\n",
       "3        Elective Admission\n",
       "4        Elective Admission\n",
       "5        Elective Admission\n",
       "6     Observation Admission\n",
       "7       Emergency Admission\n",
       "8     Observation Admission\n",
       "9       Emergency Admission\n",
       "10      Emergency Admission\n",
       "Name: Initial_admin, dtype: object"
      ]
     },
     "execution_count": 58,
     "metadata": {},
     "output_type": "execute_result"
    }
   ],
   "execution_count": 58
  },
  {
   "cell_type": "markdown",
   "metadata": {},
   "source": [
    "# D4: Mitigation Code"
   ]
  },
  {
   "cell_type": "code",
   "metadata": {
    "ExecuteTime": {
     "end_time": "2024-05-30T06:43:39.071113Z",
     "start_time": "2024-05-30T06:43:39.023560Z"
    }
   },
   "source": [
    "# Replace the null values in the Children column with the median of the column\n",
    "medical_data_copy['Children'].fillna(medical_data_copy['Children'].median(), inplace=True)\n",
    "\n",
    "# Replace the null values in the Age column with the mean of the column\n",
    "medical_data_copy['Age'].fillna(medical_data_copy['Age'].mean(), inplace=True)\n",
    "\n",
    "# Replace the null values in the Overweight column with the mode of the column\n",
    "medical_data_copy['Overweight'].fillna(medical_data_copy['Overweight'].mode(), inplace=True)\n",
    "\n",
    "# Replace the null values in the Anxiety column with the mode of the column\n",
    "medical_data_copy['Anxiety'].fillna(medical_data_copy['Anxiety'].mode(), inplace=True)\n",
    "\n",
    "# Replace the null values in the Initial_days column with the median of the column\n",
    "medical_data_copy['Initial_days'].fillna(medical_data_copy['Initial_days'].median(), inplace=True)\n",
    "\n",
    "# Replace the null values in the Soft_drink column with the mode of the column\n",
    "medical_data_copy['Soft_drink'].fillna(medical_data_copy['Soft_drink'].mode(), inplace=True)\n",
    "\n",
    "# Replace the null values in the Income column with the mean of the column\n",
    "medical_data_copy['Income'].fillna(medical_data_copy['Income'].mean(), inplace=True)\n",
    "\n",
    "\n",
    "# Here we are changing the columns to categorical data type \n",
    "medical_data_copy[['Area', 'Education', 'Employment', 'Marital', 'Initial_admin', 'Complication_risk', \n",
    "                   'Services']] = medical_data_copy[['Area', 'Education', 'Employment', 'Marital', 'Initial_admin', 'Complication_risk', \n",
    "                   'Services']].astype('category')\n",
    "\n",
    "# Change the gender column to what we said earlier\n",
    "medical_data_copy['Gender'].replace({\n",
    "                            'Female': 'F',\n",
    "                            'Male' : 'M',\n",
    "                            'Prefer not to answer' : 'NP'\n",
    "                            }, inplace=True)\n",
    "\n",
    "# Convert gender to categorical data type\n",
    "medical_data_copy['Gender'] = medical_data_copy['Gender'].astype('category')\n",
    "\n",
    "# Change the timezone column to timezone specific values\n",
    "medical_data_copy['Timezone'].replace({\n",
    "                            'America/New_York': 'Eastern Daylight Time',\n",
    "                            'America/Chicago': 'Central Daylight Time',\n",
    "                            'America/Los_Angeles': 'Pacific Daylight Time',\n",
    "                            'America/Denver': 'Mountain Daylight Time',\n",
    "                            'America/Detroit': 'Eastern Daylight Time',\n",
    "                            'America/Indiana/Indianapolis': 'Eastern Daylight Time',\n",
    "                            'America/Phoenix': 'Mountain Standard Time',\n",
    "                            'America/Boise': 'Mountain Daylight Time',\n",
    "                            'America/Ancorage': 'Alaska Daylight Time',\n",
    "                            'America/Puerto_Rico': 'Atlantic Standard Time',\n",
    "                            'America/Honolulu': 'Hawaii-Aleutian Standard Time',\n",
    "                            'America/Menominie': 'Central Daylight Time',\n",
    "                            'America/Nome': 'Alaska Daylight Time',\n",
    "                            'America/Indiana/Vincennes': 'Eastern Daylight Time',\n",
    "                            'America/Kentucky/Louisville': 'Eastern Daylight Time',\n",
    "                            'America/Sitka': 'Alaska Daylight Time',\n",
    "                            'America/Toronto': 'Eastern Daylight Time',\n",
    "                            'America/Indiana/Marengo': 'Eastern Daylight Time',\n",
    "                            'America/Indiana/Tell_City': 'Central Daylight Time',\n",
    "                            'America/north_Dakota/Beulah': 'Central Daylight Time',\n",
    "                            'America/Yakutat': 'Alaska Daylight Time',\n",
    "                            'America/Indiana/WInamac': 'Eastern Daylight Time',\n",
    "                            'America/Indiana/Knox': 'Central Daylight Time',\n",
    "                            'America/North_Dakota/New_Salem': 'Central Daylight Time',\n",
    "                            'America/Indiana/Vevay': 'Eastern Daylight Time',\n",
    "                            'America/Adak' : 'Hawaii-Aleutian Standard Time'\n",
    "                            }, inplace=True)\n",
    "\n",
    "# Convert timezone to categorical data type\n",
    "medical_data_copy['Timezone'] = medical_data_copy['Timezone'].astype('category')\n",
    "\n",
    "# Convert the columns into boolean data type\n",
    "medical_data_copy[['ReAdmis', 'HighBlood', 'Stroke', 'Arthritis', 'Diabetes', 'Hyperlipidemia', \n",
    "                   'BackPain', 'Reflux_esophagitis', 'Allergic_rhinitis', 'Asthma']] = medical_data_copy[['ReAdmis', 'HighBlood', 'Stroke', 'Arthritis', 'Diabetes', 'Hyperlipidemia', \n",
    "                   'BackPain', 'Reflux_esophagitis', 'Allergic_rhinitis', 'Asthma']].astype('bool')\n",
    "\n",
    "# Convert items 1-8 to categorical data type\n",
    "medical_data_copy[['Item1', 'Item2', 'Item3', 'Item4', 'Item5', 'Item6', 'Item7', 'Item8']] = medical_data_copy[['Item1', 'Item2', 'Item3', 'Item4', 'Item5', 'Item6', 'Item7', 'Item8']].astype('category')\n",
    "\n"
   ],
   "outputs": [
    {
     "name": "stderr",
     "output_type": "stream",
     "text": [
      "/var/folders/15/mjyp31895sl5yb49p2kjrr780000gn/T/ipykernel_19327/408322669.py:2: FutureWarning: A value is trying to be set on a copy of a DataFrame or Series through chained assignment using an inplace method.\n",
      "The behavior will change in pandas 3.0. This inplace method will never work because the intermediate object on which we are setting values always behaves as a copy.\n",
      "\n",
      "For example, when doing 'df[col].method(value, inplace=True)', try using 'df.method({col: value}, inplace=True)' or df[col] = df[col].method(value) instead, to perform the operation inplace on the original object.\n",
      "\n",
      "\n",
      "  medical_data_copy['Children'].fillna(medical_data_copy['Children'].median(), inplace=True)\n",
      "/var/folders/15/mjyp31895sl5yb49p2kjrr780000gn/T/ipykernel_19327/408322669.py:5: FutureWarning: A value is trying to be set on a copy of a DataFrame or Series through chained assignment using an inplace method.\n",
      "The behavior will change in pandas 3.0. This inplace method will never work because the intermediate object on which we are setting values always behaves as a copy.\n",
      "\n",
      "For example, when doing 'df[col].method(value, inplace=True)', try using 'df.method({col: value}, inplace=True)' or df[col] = df[col].method(value) instead, to perform the operation inplace on the original object.\n",
      "\n",
      "\n",
      "  medical_data_copy['Age'].fillna(medical_data_copy['Age'].mean(), inplace=True)\n",
      "/var/folders/15/mjyp31895sl5yb49p2kjrr780000gn/T/ipykernel_19327/408322669.py:8: FutureWarning: A value is trying to be set on a copy of a DataFrame or Series through chained assignment using an inplace method.\n",
      "The behavior will change in pandas 3.0. This inplace method will never work because the intermediate object on which we are setting values always behaves as a copy.\n",
      "\n",
      "For example, when doing 'df[col].method(value, inplace=True)', try using 'df.method({col: value}, inplace=True)' or df[col] = df[col].method(value) instead, to perform the operation inplace on the original object.\n",
      "\n",
      "\n",
      "  medical_data_copy['Overweight'].fillna(medical_data_copy['Overweight'].mode(), inplace=True)\n",
      "/var/folders/15/mjyp31895sl5yb49p2kjrr780000gn/T/ipykernel_19327/408322669.py:11: FutureWarning: A value is trying to be set on a copy of a DataFrame or Series through chained assignment using an inplace method.\n",
      "The behavior will change in pandas 3.0. This inplace method will never work because the intermediate object on which we are setting values always behaves as a copy.\n",
      "\n",
      "For example, when doing 'df[col].method(value, inplace=True)', try using 'df.method({col: value}, inplace=True)' or df[col] = df[col].method(value) instead, to perform the operation inplace on the original object.\n",
      "\n",
      "\n",
      "  medical_data_copy['Anxiety'].fillna(medical_data_copy['Anxiety'].mode(), inplace=True)\n",
      "/var/folders/15/mjyp31895sl5yb49p2kjrr780000gn/T/ipykernel_19327/408322669.py:14: FutureWarning: A value is trying to be set on a copy of a DataFrame or Series through chained assignment using an inplace method.\n",
      "The behavior will change in pandas 3.0. This inplace method will never work because the intermediate object on which we are setting values always behaves as a copy.\n",
      "\n",
      "For example, when doing 'df[col].method(value, inplace=True)', try using 'df.method({col: value}, inplace=True)' or df[col] = df[col].method(value) instead, to perform the operation inplace on the original object.\n",
      "\n",
      "\n",
      "  medical_data_copy['Initial_days'].fillna(medical_data_copy['Initial_days'].median(), inplace=True)\n",
      "/var/folders/15/mjyp31895sl5yb49p2kjrr780000gn/T/ipykernel_19327/408322669.py:17: FutureWarning: A value is trying to be set on a copy of a DataFrame or Series through chained assignment using an inplace method.\n",
      "The behavior will change in pandas 3.0. This inplace method will never work because the intermediate object on which we are setting values always behaves as a copy.\n",
      "\n",
      "For example, when doing 'df[col].method(value, inplace=True)', try using 'df.method({col: value}, inplace=True)' or df[col] = df[col].method(value) instead, to perform the operation inplace on the original object.\n",
      "\n",
      "\n",
      "  medical_data_copy['Soft_drink'].fillna(medical_data_copy['Soft_drink'].mode(), inplace=True)\n",
      "/var/folders/15/mjyp31895sl5yb49p2kjrr780000gn/T/ipykernel_19327/408322669.py:20: FutureWarning: A value is trying to be set on a copy of a DataFrame or Series through chained assignment using an inplace method.\n",
      "The behavior will change in pandas 3.0. This inplace method will never work because the intermediate object on which we are setting values always behaves as a copy.\n",
      "\n",
      "For example, when doing 'df[col].method(value, inplace=True)', try using 'df.method({col: value}, inplace=True)' or df[col] = df[col].method(value) instead, to perform the operation inplace on the original object.\n",
      "\n",
      "\n",
      "  medical_data_copy['Income'].fillna(medical_data_copy['Income'].mean(), inplace=True)\n",
      "/var/folders/15/mjyp31895sl5yb49p2kjrr780000gn/T/ipykernel_19327/408322669.py:29: FutureWarning: A value is trying to be set on a copy of a DataFrame or Series through chained assignment using an inplace method.\n",
      "The behavior will change in pandas 3.0. This inplace method will never work because the intermediate object on which we are setting values always behaves as a copy.\n",
      "\n",
      "For example, when doing 'df[col].method(value, inplace=True)', try using 'df.method({col: value}, inplace=True)' or df[col] = df[col].method(value) instead, to perform the operation inplace on the original object.\n",
      "\n",
      "\n",
      "  medical_data_copy['Gender'].replace({\n",
      "/var/folders/15/mjyp31895sl5yb49p2kjrr780000gn/T/ipykernel_19327/408322669.py:39: FutureWarning: A value is trying to be set on a copy of a DataFrame or Series through chained assignment using an inplace method.\n",
      "The behavior will change in pandas 3.0. This inplace method will never work because the intermediate object on which we are setting values always behaves as a copy.\n",
      "\n",
      "For example, when doing 'df[col].method(value, inplace=True)', try using 'df.method({col: value}, inplace=True)' or df[col] = df[col].method(value) instead, to perform the operation inplace on the original object.\n",
      "\n",
      "\n",
      "  medical_data_copy['Timezone'].replace({\n"
     ]
    }
   ],
   "execution_count": 59
  },
  {
   "cell_type": "code",
   "metadata": {
    "ExecuteTime": {
     "end_time": "2024-05-30T06:43:50.591972Z",
     "start_time": "2024-05-30T06:43:50.579236Z"
    }
   },
   "source": [
    "medical_data_copy.info()"
   ],
   "outputs": [
    {
     "name": "stdout",
     "output_type": "stream",
     "text": [
      "<class 'pandas.core.frame.DataFrame'>\n",
      "Index: 10000 entries, 1 to 10000\n",
      "Data columns (total 52 columns):\n",
      " #   Column              Non-Null Count  Dtype   \n",
      "---  ------              --------------  -----   \n",
      " 0   CaseOrder           10000 non-null  int64   \n",
      " 1   Customer_id         10000 non-null  object  \n",
      " 2   Interaction         10000 non-null  object  \n",
      " 3   UID                 10000 non-null  object  \n",
      " 4   City                10000 non-null  object  \n",
      " 5   State               10000 non-null  object  \n",
      " 6   County              10000 non-null  object  \n",
      " 7   Zip                 10000 non-null  int64   \n",
      " 8   Lat                 10000 non-null  float64 \n",
      " 9   Lng                 10000 non-null  float64 \n",
      " 10  Population          10000 non-null  int64   \n",
      " 11  Area                10000 non-null  category\n",
      " 12  Timezone            10000 non-null  category\n",
      " 13  Job                 10000 non-null  object  \n",
      " 14  Children            10000 non-null  float64 \n",
      " 15  Age                 10000 non-null  float64 \n",
      " 16  Education           10000 non-null  category\n",
      " 17  Employment          10000 non-null  category\n",
      " 18  Income              10000 non-null  float64 \n",
      " 19  Marital             10000 non-null  category\n",
      " 20  Gender              10000 non-null  category\n",
      " 21  ReAdmis             10000 non-null  bool    \n",
      " 22  VitD_levels         10000 non-null  float64 \n",
      " 23  Doc_visits          10000 non-null  int64   \n",
      " 24  Full_meals_eaten    10000 non-null  int64   \n",
      " 25  VitD_supp           10000 non-null  int64   \n",
      " 26  Soft_drink          7533 non-null   object  \n",
      " 27  Initial_admin       10000 non-null  category\n",
      " 28  HighBlood           10000 non-null  bool    \n",
      " 29  Stroke              10000 non-null  bool    \n",
      " 30  Complication_risk   10000 non-null  category\n",
      " 31  Overweight          9018 non-null   float64 \n",
      " 32  Arthritis           10000 non-null  bool    \n",
      " 33  Diabetes            10000 non-null  bool    \n",
      " 34  Hyperlipidemia      10000 non-null  bool    \n",
      " 35  BackPain            10000 non-null  bool    \n",
      " 36  Anxiety             9016 non-null   float64 \n",
      " 37  Allergic_rhinitis   10000 non-null  bool    \n",
      " 38  Reflux_esophagitis  10000 non-null  bool    \n",
      " 39  Asthma              10000 non-null  bool    \n",
      " 40  Services            10000 non-null  category\n",
      " 41  Initial_days        10000 non-null  float64 \n",
      " 42  TotalCharge         10000 non-null  float64 \n",
      " 43  Additional_charges  10000 non-null  float64 \n",
      " 44  Item1               10000 non-null  category\n",
      " 45  Item2               10000 non-null  category\n",
      " 46  Item3               10000 non-null  category\n",
      " 47  Item4               10000 non-null  category\n",
      " 48  Item5               10000 non-null  category\n",
      " 49  Item6               10000 non-null  category\n",
      " 50  Item7               10000 non-null  category\n",
      " 51  Item8               10000 non-null  category\n",
      "dtypes: bool(10), category(17), float64(11), int64(6), object(8)\n",
      "memory usage: 2.2+ MB\n"
     ]
    }
   ],
   "execution_count": 60
  },
  {
   "cell_type": "code",
   "metadata": {
    "ExecuteTime": {
     "end_time": "2024-05-30T06:44:10.307241Z",
     "start_time": "2024-05-30T06:44:10.298585Z"
    }
   },
   "source": [
    "medical_data_copy.isnull().sum()"
   ],
   "outputs": [
    {
     "data": {
      "text/plain": [
       "CaseOrder                0\n",
       "Customer_id              0\n",
       "Interaction              0\n",
       "UID                      0\n",
       "City                     0\n",
       "State                    0\n",
       "County                   0\n",
       "Zip                      0\n",
       "Lat                      0\n",
       "Lng                      0\n",
       "Population               0\n",
       "Area                     0\n",
       "Timezone                 0\n",
       "Job                      0\n",
       "Children                 0\n",
       "Age                      0\n",
       "Education                0\n",
       "Employment               0\n",
       "Income                   0\n",
       "Marital                  0\n",
       "Gender                   0\n",
       "ReAdmis                  0\n",
       "VitD_levels              0\n",
       "Doc_visits               0\n",
       "Full_meals_eaten         0\n",
       "VitD_supp                0\n",
       "Soft_drink            2467\n",
       "Initial_admin            0\n",
       "HighBlood                0\n",
       "Stroke                   0\n",
       "Complication_risk        0\n",
       "Overweight             982\n",
       "Arthritis                0\n",
       "Diabetes                 0\n",
       "Hyperlipidemia           0\n",
       "BackPain                 0\n",
       "Anxiety                984\n",
       "Allergic_rhinitis        0\n",
       "Reflux_esophagitis       0\n",
       "Asthma                   0\n",
       "Services                 0\n",
       "Initial_days             0\n",
       "TotalCharge              0\n",
       "Additional_charges       0\n",
       "Item1                    0\n",
       "Item2                    0\n",
       "Item3                    0\n",
       "Item4                    0\n",
       "Item5                    0\n",
       "Item6                    0\n",
       "Item7                    0\n",
       "Item8                    0\n",
       "dtype: int64"
      ]
     },
     "execution_count": 61,
     "metadata": {},
     "output_type": "execute_result"
    }
   ],
   "execution_count": 61
  },
  {
   "cell_type": "markdown",
   "metadata": {},
   "source": [
    "# D5: Clean Data\n",
    "A copy of the cleaned data will be submitted as a CSV file. "
   ]
  },
  {
   "cell_type": "code",
   "metadata": {
    "ExecuteTime": {
     "end_time": "2024-05-30T06:44:16.813115Z",
     "start_time": "2024-05-30T06:44:16.696831Z"
    }
   },
   "source": [
    "# Create a CSV file with the cleaned data\n",
    "medical_data_copy.to_csv('medical_cleaned_data.csv', index=False)\n",
    "medical_data_copy.head(5)"
   ],
   "outputs": [
    {
     "data": {
      "text/plain": [
       "   CaseOrder Customer_id                           Interaction  \\\n",
       "1          1     C412403  8cd49b13-f45a-4b47-a2bd-173ffa932c2f   \n",
       "2          2     Z919181  d2450b70-0337-4406-bdbb-bc1037f1734c   \n",
       "3          3     F995323  a2057123-abf5-4a2c-abad-8ffe33512562   \n",
       "4          4     A879973  1dec528d-eb34-4079-adce-0d7a40e82205   \n",
       "5          5     C544523  5885f56b-d6da-43a3-8760-83583af94266   \n",
       "\n",
       "                                UID          City State        County    Zip  \\\n",
       "1  3a83ddb66e2ae73798bdf1d705dc0932           Eva    AL        Morgan  35621   \n",
       "2  176354c5eef714957d486009feabf195      Marianna    FL       Jackson  32446   \n",
       "3  e19a0fa00aeda885b8a436757e889bc9   Sioux Falls    SD     Minnehaha  57110   \n",
       "4  cd17d7b6d152cb6f23957346d11c3f07  New Richland    MN        Waseca  56072   \n",
       "5  d2f0425877b10ed6bb381f3e2579424a    West Point    VA  King William  23181   \n",
       "\n",
       "        Lat       Lng  ...  TotalCharge Additional_charges Item1 Item2  Item3  \\\n",
       "1  34.34960 -86.72508  ...  3191.048774       17939.403420     3     3      2   \n",
       "2  30.84513 -85.22907  ...  4214.905346       17612.998120     3     4      3   \n",
       "3  43.54321 -96.63772  ...  2177.586768       17505.192460     2     4      4   \n",
       "4  43.89744 -93.51479  ...  2465.118965       12993.437350     3     5      5   \n",
       "5  37.59894 -76.88958  ...  1885.655137        3716.525786     2     1      3   \n",
       "\n",
       "   Item4 Item5 Item6  Item7 Item8  \n",
       "1      2     4     3      3     4  \n",
       "2      4     4     4      3     3  \n",
       "3      4     3     4      3     3  \n",
       "4      3     4     5      5     5  \n",
       "5      3     5     3      4     3  \n",
       "\n",
       "[5 rows x 52 columns]"
      ],
      "text/html": [
       "<div>\n",
       "<style scoped>\n",
       "    .dataframe tbody tr th:only-of-type {\n",
       "        vertical-align: middle;\n",
       "    }\n",
       "\n",
       "    .dataframe tbody tr th {\n",
       "        vertical-align: top;\n",
       "    }\n",
       "\n",
       "    .dataframe thead th {\n",
       "        text-align: right;\n",
       "    }\n",
       "</style>\n",
       "<table border=\"1\" class=\"dataframe\">\n",
       "  <thead>\n",
       "    <tr style=\"text-align: right;\">\n",
       "      <th></th>\n",
       "      <th>CaseOrder</th>\n",
       "      <th>Customer_id</th>\n",
       "      <th>Interaction</th>\n",
       "      <th>UID</th>\n",
       "      <th>City</th>\n",
       "      <th>State</th>\n",
       "      <th>County</th>\n",
       "      <th>Zip</th>\n",
       "      <th>Lat</th>\n",
       "      <th>Lng</th>\n",
       "      <th>...</th>\n",
       "      <th>TotalCharge</th>\n",
       "      <th>Additional_charges</th>\n",
       "      <th>Item1</th>\n",
       "      <th>Item2</th>\n",
       "      <th>Item3</th>\n",
       "      <th>Item4</th>\n",
       "      <th>Item5</th>\n",
       "      <th>Item6</th>\n",
       "      <th>Item7</th>\n",
       "      <th>Item8</th>\n",
       "    </tr>\n",
       "  </thead>\n",
       "  <tbody>\n",
       "    <tr>\n",
       "      <th>1</th>\n",
       "      <td>1</td>\n",
       "      <td>C412403</td>\n",
       "      <td>8cd49b13-f45a-4b47-a2bd-173ffa932c2f</td>\n",
       "      <td>3a83ddb66e2ae73798bdf1d705dc0932</td>\n",
       "      <td>Eva</td>\n",
       "      <td>AL</td>\n",
       "      <td>Morgan</td>\n",
       "      <td>35621</td>\n",
       "      <td>34.34960</td>\n",
       "      <td>-86.72508</td>\n",
       "      <td>...</td>\n",
       "      <td>3191.048774</td>\n",
       "      <td>17939.403420</td>\n",
       "      <td>3</td>\n",
       "      <td>3</td>\n",
       "      <td>2</td>\n",
       "      <td>2</td>\n",
       "      <td>4</td>\n",
       "      <td>3</td>\n",
       "      <td>3</td>\n",
       "      <td>4</td>\n",
       "    </tr>\n",
       "    <tr>\n",
       "      <th>2</th>\n",
       "      <td>2</td>\n",
       "      <td>Z919181</td>\n",
       "      <td>d2450b70-0337-4406-bdbb-bc1037f1734c</td>\n",
       "      <td>176354c5eef714957d486009feabf195</td>\n",
       "      <td>Marianna</td>\n",
       "      <td>FL</td>\n",
       "      <td>Jackson</td>\n",
       "      <td>32446</td>\n",
       "      <td>30.84513</td>\n",
       "      <td>-85.22907</td>\n",
       "      <td>...</td>\n",
       "      <td>4214.905346</td>\n",
       "      <td>17612.998120</td>\n",
       "      <td>3</td>\n",
       "      <td>4</td>\n",
       "      <td>3</td>\n",
       "      <td>4</td>\n",
       "      <td>4</td>\n",
       "      <td>4</td>\n",
       "      <td>3</td>\n",
       "      <td>3</td>\n",
       "    </tr>\n",
       "    <tr>\n",
       "      <th>3</th>\n",
       "      <td>3</td>\n",
       "      <td>F995323</td>\n",
       "      <td>a2057123-abf5-4a2c-abad-8ffe33512562</td>\n",
       "      <td>e19a0fa00aeda885b8a436757e889bc9</td>\n",
       "      <td>Sioux Falls</td>\n",
       "      <td>SD</td>\n",
       "      <td>Minnehaha</td>\n",
       "      <td>57110</td>\n",
       "      <td>43.54321</td>\n",
       "      <td>-96.63772</td>\n",
       "      <td>...</td>\n",
       "      <td>2177.586768</td>\n",
       "      <td>17505.192460</td>\n",
       "      <td>2</td>\n",
       "      <td>4</td>\n",
       "      <td>4</td>\n",
       "      <td>4</td>\n",
       "      <td>3</td>\n",
       "      <td>4</td>\n",
       "      <td>3</td>\n",
       "      <td>3</td>\n",
       "    </tr>\n",
       "    <tr>\n",
       "      <th>4</th>\n",
       "      <td>4</td>\n",
       "      <td>A879973</td>\n",
       "      <td>1dec528d-eb34-4079-adce-0d7a40e82205</td>\n",
       "      <td>cd17d7b6d152cb6f23957346d11c3f07</td>\n",
       "      <td>New Richland</td>\n",
       "      <td>MN</td>\n",
       "      <td>Waseca</td>\n",
       "      <td>56072</td>\n",
       "      <td>43.89744</td>\n",
       "      <td>-93.51479</td>\n",
       "      <td>...</td>\n",
       "      <td>2465.118965</td>\n",
       "      <td>12993.437350</td>\n",
       "      <td>3</td>\n",
       "      <td>5</td>\n",
       "      <td>5</td>\n",
       "      <td>3</td>\n",
       "      <td>4</td>\n",
       "      <td>5</td>\n",
       "      <td>5</td>\n",
       "      <td>5</td>\n",
       "    </tr>\n",
       "    <tr>\n",
       "      <th>5</th>\n",
       "      <td>5</td>\n",
       "      <td>C544523</td>\n",
       "      <td>5885f56b-d6da-43a3-8760-83583af94266</td>\n",
       "      <td>d2f0425877b10ed6bb381f3e2579424a</td>\n",
       "      <td>West Point</td>\n",
       "      <td>VA</td>\n",
       "      <td>King William</td>\n",
       "      <td>23181</td>\n",
       "      <td>37.59894</td>\n",
       "      <td>-76.88958</td>\n",
       "      <td>...</td>\n",
       "      <td>1885.655137</td>\n",
       "      <td>3716.525786</td>\n",
       "      <td>2</td>\n",
       "      <td>1</td>\n",
       "      <td>3</td>\n",
       "      <td>3</td>\n",
       "      <td>5</td>\n",
       "      <td>3</td>\n",
       "      <td>4</td>\n",
       "      <td>3</td>\n",
       "    </tr>\n",
       "  </tbody>\n",
       "</table>\n",
       "<p>5 rows × 52 columns</p>\n",
       "</div>"
      ]
     },
     "execution_count": 62,
     "metadata": {},
     "output_type": "execute_result"
    }
   ],
   "execution_count": 62
  },
  {
   "cell_type": "markdown",
   "metadata": {},
   "source": [
    "# D6: Limitations\n",
    "There were some limitations that we're faced when cleaning the data. First, is the data we converted to categorical data, this might not reflect all the possible choices that could in the column. Next, there is human error when it comes to cleaning data, as different people might use different methods to standardize the data and this can lead to different people ending up with different data sets. Then, there is the limitation with replacing missing values, that can cause some distribution with the data. Finally, dealing with outliers in the data, if we were to remove the outliers it would reduce the size of the data set and if we were to keep the outliers it would skew the data. "
   ]
  },
  {
   "cell_type": "markdown",
   "metadata": {},
   "source": [
    "# D7: Impact of Limitations\n",
    "If we were to delete the columns with null values then it will cause problems with creating an analysis report as we would have missing data if we happen to need those columns.Also, filling in the missing data can lead to incorrect analysis as the data is not accurate. Then like mentioned above about the columns that were changed to categorical, this might impact the analysis as we do not know the exact amount of categories that we should make. For example, from the given data it might not have all the categories that are required in that columns, so if we collect more data there is always that chance that we missed a category from the ones we created. "
   ]
  },
  {
   "cell_type": "markdown",
   "metadata": {},
   "source": [
    "# E1:Principal Components \n",
    "To complete the Princiapl Component Analysis (PCA), we need to use quantitative variables. For this part the variables that will be used are population, VitD_levels, Doc_visists, Full_meals_eaten, VitD_supp, TotalCharge, and Additional_charges. Following the material provided from the WGU readings we will now generate the code to perform a PCA on the data. "
   ]
  },
  {
   "cell_type": "code",
   "metadata": {
    "ExecuteTime": {
     "end_time": "2024-05-30T15:44:59.573824Z",
     "start_time": "2024-05-30T15:44:58.675534Z"
    }
   },
   "source": [
    "# import the libraries we need for PCA\n",
    "from sklearn.decomposition import PCA"
   ],
   "outputs": [],
   "execution_count": 63
  },
  {
   "cell_type": "code",
   "metadata": {
    "ExecuteTime": {
     "end_time": "2024-05-30T16:51:49.697752Z",
     "start_time": "2024-05-30T16:51:49.528418Z"
    }
   },
   "source": [
    "# Store the variables we are going to use\n",
    "df = medical_data[['VitD_levels', 'Doc_visits', 'Full_meals_eaten', 'VitD_supp', 'TotalCharge', 'Additional_charges', 'Population']]\n",
    "\n",
    "# Normalize the data using the mean and standard deviation\n",
    "df_normalized = (df - df.mean()) / df.std()\n",
    "\n",
    "# Set the size of the PCA \n",
    "pca = PCA(n_components=df.shape[1])\n",
    "\n",
    "# Fit the normalized data onto the PCA\n",
    "pca.fit(df_normalized)\n",
    "\n",
    "# Print the data\n",
    "df_pca = pd.DataFrame(pca.transform(df_normalized), columns=['PC1', 'PC2', 'PC3', 'PC4', 'PC5', 'PC6', 'PC7'])\n",
    "\n",
    "# Generate the dataframe for PCA values\n",
    "pca_loadings = pd.DataFrame(pca.components_.T, columns=['PC1', 'PC2', 'PC3', 'PC4', 'PC5', 'PC6', 'PC7'], index=df.columns)\n",
    "\n",
    "# Print the PCA values\n",
    "pca_loadings"
   ],
   "outputs": [
    {
     "data": {
      "text/plain": [
       "                         PC1       PC2       PC3       PC4       PC5  \\\n",
       "VitD_levels         0.705568 -0.019177 -0.036067 -0.027145 -0.024387   \n",
       "Doc_visits         -0.001920  0.223532  0.534762 -0.644442 -0.497304   \n",
       "Full_meals_eaten    0.000548 -0.644035  0.224942 -0.153279  0.097913   \n",
       "VitD_supp           0.031258  0.407104  0.370985  0.649484 -0.292631   \n",
       "TotalCharge         0.706336  0.003038 -0.026252 -0.009756 -0.007537   \n",
       "Additional_charges  0.045081 -0.211797  0.722232  0.209518  0.442536   \n",
       "Population          0.015787  0.569459  0.046815 -0.307637  0.678954   \n",
       "\n",
       "                         PC6       PC7  \n",
       "VitD_levels         0.006735  0.706490  \n",
       "Doc_visits         -0.037447 -0.006284  \n",
       "Full_meals_eaten    0.708018 -0.015804  \n",
       "VitD_supp           0.433713  0.009491  \n",
       "TotalCharge        -0.006300 -0.707248  \n",
       "Additional_charges -0.437687  0.013598  \n",
       "Population          0.342851  0.010429  "
      ],
      "text/html": [
       "<div>\n",
       "<style scoped>\n",
       "    .dataframe tbody tr th:only-of-type {\n",
       "        vertical-align: middle;\n",
       "    }\n",
       "\n",
       "    .dataframe tbody tr th {\n",
       "        vertical-align: top;\n",
       "    }\n",
       "\n",
       "    .dataframe thead th {\n",
       "        text-align: right;\n",
       "    }\n",
       "</style>\n",
       "<table border=\"1\" class=\"dataframe\">\n",
       "  <thead>\n",
       "    <tr style=\"text-align: right;\">\n",
       "      <th></th>\n",
       "      <th>PC1</th>\n",
       "      <th>PC2</th>\n",
       "      <th>PC3</th>\n",
       "      <th>PC4</th>\n",
       "      <th>PC5</th>\n",
       "      <th>PC6</th>\n",
       "      <th>PC7</th>\n",
       "    </tr>\n",
       "  </thead>\n",
       "  <tbody>\n",
       "    <tr>\n",
       "      <th>VitD_levels</th>\n",
       "      <td>0.705568</td>\n",
       "      <td>-0.019177</td>\n",
       "      <td>-0.036067</td>\n",
       "      <td>-0.027145</td>\n",
       "      <td>-0.024387</td>\n",
       "      <td>0.006735</td>\n",
       "      <td>0.706490</td>\n",
       "    </tr>\n",
       "    <tr>\n",
       "      <th>Doc_visits</th>\n",
       "      <td>-0.001920</td>\n",
       "      <td>0.223532</td>\n",
       "      <td>0.534762</td>\n",
       "      <td>-0.644442</td>\n",
       "      <td>-0.497304</td>\n",
       "      <td>-0.037447</td>\n",
       "      <td>-0.006284</td>\n",
       "    </tr>\n",
       "    <tr>\n",
       "      <th>Full_meals_eaten</th>\n",
       "      <td>0.000548</td>\n",
       "      <td>-0.644035</td>\n",
       "      <td>0.224942</td>\n",
       "      <td>-0.153279</td>\n",
       "      <td>0.097913</td>\n",
       "      <td>0.708018</td>\n",
       "      <td>-0.015804</td>\n",
       "    </tr>\n",
       "    <tr>\n",
       "      <th>VitD_supp</th>\n",
       "      <td>0.031258</td>\n",
       "      <td>0.407104</td>\n",
       "      <td>0.370985</td>\n",
       "      <td>0.649484</td>\n",
       "      <td>-0.292631</td>\n",
       "      <td>0.433713</td>\n",
       "      <td>0.009491</td>\n",
       "    </tr>\n",
       "    <tr>\n",
       "      <th>TotalCharge</th>\n",
       "      <td>0.706336</td>\n",
       "      <td>0.003038</td>\n",
       "      <td>-0.026252</td>\n",
       "      <td>-0.009756</td>\n",
       "      <td>-0.007537</td>\n",
       "      <td>-0.006300</td>\n",
       "      <td>-0.707248</td>\n",
       "    </tr>\n",
       "    <tr>\n",
       "      <th>Additional_charges</th>\n",
       "      <td>0.045081</td>\n",
       "      <td>-0.211797</td>\n",
       "      <td>0.722232</td>\n",
       "      <td>0.209518</td>\n",
       "      <td>0.442536</td>\n",
       "      <td>-0.437687</td>\n",
       "      <td>0.013598</td>\n",
       "    </tr>\n",
       "    <tr>\n",
       "      <th>Population</th>\n",
       "      <td>0.015787</td>\n",
       "      <td>0.569459</td>\n",
       "      <td>0.046815</td>\n",
       "      <td>-0.307637</td>\n",
       "      <td>0.678954</td>\n",
       "      <td>0.342851</td>\n",
       "      <td>0.010429</td>\n",
       "    </tr>\n",
       "  </tbody>\n",
       "</table>\n",
       "</div>"
      ]
     },
     "execution_count": 73,
     "metadata": {},
     "output_type": "execute_result"
    }
   ],
   "execution_count": 73
  },
  {
   "cell_type": "markdown",
   "metadata": {},
   "source": [
    "# E2: Criteria Used\n",
    "Here I will plot the eigenvalues of each principal component, to identify each one. Again we will follow the guide in the notes given to us by the class. "
   ]
  },
  {
   "cell_type": "code",
   "metadata": {
    "ExecuteTime": {
     "end_time": "2024-05-30T16:50:17.252083Z",
     "start_time": "2024-05-30T16:50:17.115834Z"
    }
   },
   "source": [
    "cov_matrix = np.dot(df_normalized.T, df_normalized) / df_normalized.shape[0]\n",
    "eigenvalues = [np.dot(eigenvector.T, np.dot(cov_matrix, eigenvector)) for eigenvector in pca.components_]\n",
    "\n",
    "# plot the eigenvalues and number of components\n",
    "plt.plot(eigenvalues)\n",
    "plt.xlabel('Number of Components')\n",
    "plt.ylabel('Eigenvalues')\n",
    "plt.axhline(y=1, color='r', linestyle='-')\n",
    "plt.show()"
   ],
   "outputs": [
    {
     "data": {
      "text/plain": [
       "<Figure size 640x480 with 1 Axes>"
      ],
      "image/png": "[encoded data removed]"
     },
     "metadata": {},
     "output_type": "display_data"
    }
   ],
   "execution_count": 70
  },
  {
   "cell_type": "code",
   "metadata": {
    "ExecuteTime": {
     "end_time": "2024-05-30T16:50:21.505567Z",
     "start_time": "2024-05-30T16:50:21.500499Z"
    }
   },
   "source": [
    "# print the eigenvalues\n",
    "eigenvalues"
   ],
   "outputs": [
    {
     "data": {
      "text/plain": [
       "[1.7304572382188677,\n",
       " 1.0425949568350017,\n",
       " 1.0148054948011545,\n",
       " 0.9969233984077992,\n",
       " 0.9793461987249441,\n",
       " 0.9639636868864079,\n",
       " 0.2712090261258245]"
      ]
     },
     "execution_count": 71,
     "metadata": {},
     "output_type": "execute_result"
    }
   ],
   "execution_count": 71
  },
  {
   "cell_type": "markdown",
   "metadata": {},
   "source": "Looking at the graph above we can see which components have a eigenvalue greater than 1 and which ones do not. We needed to print the eigenvalues in order to see the value of the second and third component clearly. By looking at the array the first 3 components are above 1 and should be retained, while the last 4 components are below 1 and should be discarded. "
  },
  {
   "cell_type": "markdown",
   "metadata": {},
   "source": [
    "# E3: Benefits\n",
    "The main benefit of using PCA is that with large datasets there tends to be many different variables and doing this helps us break it down into fewer dimensions. Although, PCA requires that the variables are quantitative, we had a few in dataset that we're able to use for the analysis. The variables Doc visits, total charges and additional charges are similar variables, as they all related to the cost and the visits to a hospital. Using PCA this combines the variables to one single element for testing against readmission. Doing this method lets us test much fewer variables compared to having to test each variable alone. "
   ]
  },
  {
   "cell_type": "markdown",
   "metadata": {},
   "source": [
    "# F: Video \n",
    "Panopto recording for all the code that was written for the assignment can be found here:\n",
    "https://wgu.hosted.panopto.com/Panopto/Pages/Viewer.aspx?id=c22ae4a3-a9d7-4a24-8cc2-b1800159c915"
   ]
  },
  {
   "cell_type": "markdown",
   "metadata": {},
   "source": [
    "# G: Sources to Third-Party Code\n",
    "[WGU course material](https://apps.cgp-oex.wgu.edu/wgulearning/course/course-v1:WGUx+OEX0026+v02/block-v1:WGUx+OEX0026+v02+type@sequential+block@2b5f23c5dad64357b352728993788677/block-v1:WGUx+OEX0026+v02+type@vertical+block@3f0422d47d8b4a3eaec25de3bced8bf8) was used to help with the code for part E in creating the PCA. "
   ]
  },
  {
   "cell_type": "markdown",
   "metadata": {},
   "source": [
    "# H:Sources\n",
    "[WGU course material](https://apps.cgp-oex.wgu.edu/wgulearning/course/course-v1:WGUx+OEX0026+v02/block-v1:WGUx+OEX0026+v02+type@sequential+block@2b5f23c5dad64357b352728993788677/block-v1:WGUx+OEX0026+v02+type@vertical+block@3f0422d47d8b4a3eaec25de3bced8bf8) was used to understand PCA, as to how and why to use it."
   ]
  },
  {
   "metadata": {},
   "cell_type": "code",
   "outputs": [],
   "execution_count": null,
   "source": ""
  }
 ],
 "metadata": {
  "kernelspec": {
   "display_name": "Python 3",
   "language": "python",
   "name": "python3"
  },
  "language_info": {
   "codemirror_mode": {
    "name": "ipython",
    "version": 3
   },
   "file_extension": ".py",
   "mimetype": "text/x-python",
   "name": "python",
   "nbconvert_exporter": "python",
   "pygments_lexer": "ipython3",
   "version": "3.9.6"
  }
 },
 "nbformat": 4,
 "nbformat_minor": 2
}
