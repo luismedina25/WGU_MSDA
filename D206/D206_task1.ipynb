{
 "cells": [
  {
   "cell_type": "markdown",
   "metadata": {},
   "source": [
    "# D206 Data Cleaning Performance Assessment\n",
    "By Luis Medina, Student ID 012020203"
   ]
  },
  {
   "cell_type": "markdown",
   "metadata": {},
   "source": [
    "## A: Research Question \n",
    "The research question is \"Is there a relationship between readmission of a patient and a patient having highblood pressure.\" Having highblood pressure can often lead to many more health problems in the future. So, by looking one of the roots problems we can see if this is start into helping people avoid readmission at a hostipal. "
   ]
  },
  {
   "cell_type": "markdown",
   "metadata": {},
   "source": [
    "## B: Required Variables\n",
    "This dataset contains a total of 52 columns and 10,000 customers, which are the rows. Each row relates to a patient and thier hospital admission. Each variable will be summarized here. \n",
    "\n",
    "* CaseOrder (int64), example: 1\n",
    "    This column is the index of the data, and keeps the data in order.\n",
    "* Customer_id (int64), example: C412403\n",
    "    This column is an ID for the patient.\n",
    "* Interaction (object), example 8cd49b13-f45a-4b47-a2bd-173ffa932c2f\n",
    "    This column is also an ID.\n",
    "* UID (object), example: 3a83ddb66e2ae73798bdf1d705dc0932\n",
    "    This column like the one before is used for ID purpose but it's not intended to be human readable.\n",
    "* City (object), example: Eva\n",
    "* State (object), example: AL\n",
    "* County (object), example: Morgan\n",
    "* Zip (int64), example: 35621\n",
    "* Lat (float64), example: 34.34960\n",
    "* Lng (float64), example: -86.7251\n",
    "    This two columns is for location of the patient's residence that is listed on the billing statement.\n",
    "* Population (int64), example: 2951 \n",
    "    This column is the population within a mile radius of the patient\n",
    "* Area (object), example: Suburban \n",
    "* TimeZone (object), example: America/Chicago\n",
    "    This column is for the time zone of the patient residence based on the patient's sign-up information.\n",
    "* Job (object), example: Psychologist, sport and exercise\n",
    "    This column refers to the occupation of the patient or primary insurance holder. \n",
    "* Children (float64), example: 1\n",
    "    This column is just for the number of children in the patient's household.\n",
    "* Age (float64), example: 53\n",
    "    This is for the age of the patient reported in admission information\n",
    "* Education (object), example: Some College, Less than 1 Year\n",
    "    This column is the highest earned degree of the patient\n",
    "* Employment (object), example: Full Time\n",
    "    For this column it tells us the employment status of the patient.\n",
    "* Income (float64), example: 86575.93\n",
    "    The annual income of the patient or primary insurnace holder as reported on admission information.\n",
    "* Marital (object), example: Divorced\n",
    "    This is the marital status of the patient or primary insurance holder\n",
    "* Gender (Object), example: Male\n",
    "    For this the patient self-indentification as male, female, or nonbinary \n",
    "* ReAdmis (Object), example: No\n",
    "    For this column it indicates if whether or not the patient was readmitted within 1 month of release.\n",
    "* VitD_levels (float64), example: 17.802330\n",
    "    This is the patient's vitamin D levels as measured in ng/mL.\n",
    "* Doc_visits (int64), example: 6\n",
    "    Here is the number of times the primary physician visisted the patient during the initial hospitalization.\n",
    "* Full_meals_eaten (int64), example: 0\n",
    "    For this column it's the number of full meals the patient ate while hospitalized.\n",
    "* VitD_supp (int64), example: 0 \n",
    "    This column is the number of Vitamin D supplements the patient was provided. \n",
    "* Soft_drink (object), example: NaN\n",
    "    This column is if the patient habitually drinks three or more sodas in a day.\n",
    "* Initial_admin (object), example: Emergency Admission\n",
    "    How the patient was admitted into the hospital initially.\n",
    "* HighBlood (object), example: Yes\n",
    "    A binary variable, that indicates if a patient has high blood pressure or not.\n",
    "* Stroke (object), example: No\n",
    "    A binary variable, whether the patient has had a stroke.\n",
    "* Complication_risk (object), example: Medium\n",
    "    Category for the level of complication risk for the patient as assessed by a primary patient assessment\n",
    "* Overweight (float64), example: 0.0\n",
    "    A binary variable, to indicate whether a patient is overweight based on age, gender, and height.\n",
    "* Arthritis (object), example: Yes\n",
    "    A binary variable, to indicate whether the patient has arthiritis.\n",
    "* Hyperlipidemia (object), example: No\n",
    "    A binary variable, to indicate wheter the patients has hyperlipidemia.\n",
    "* BackPain (object), example: Yes\n",
    "    A binary variable, to indicate whether the patient has chronic back pain\n",
    "* Anxiety (float64), example: 1.0\n",
    "    A binary variable, to indicate whether the patient has an anxiety disorder.\n",
    "* Allergic_rhinitis (object), example: Yes\n",
    "    A binary variable, to indicate whether the patient has allergic rhinitis.\n",
    "* Reflux_esophagitis (object), example: No\n",
    "    A binary variable, to indicate whether the patient has reflux esophagitis.\n",
    "* Asthma (object), example: Yes\n",
    "    A binary variable, to indicate whether the patient has asthma.\n",
    "* Services (object), example: Blood Work\n",
    "    This column is the primary service the patient received while hospitalized.\n",
    "* Initial_days (float64), example: 10.585770\n",
    "    This is the number of days the patient stayed in the hostipal during the initial visit. \n",
    "* TotalCharge (float64), example: 3191.048774\n",
    "    Here is the total amount charged to the patient daily. This value reflects an average per patient based on the total charge divided by the number of days hospitalized. \n",
    "* Additional_charges (float64), example: 17939.403420\n",
    "    This column is the average amount charged to the patient for miscellaneous procedures, treatments, medicines, anesthesiology.\n",
    "* Item1 (int64), example: 3\n",
    "    For this column the variables represent responses to an eight-question survey asking customers to rate the importance of various factors/surfaces on a scale of 1 to 8. The question is for Timely admission.\n",
    "* Item2 (int64), example: 3\n",
    "    For this column the variables represent responses to an eight-question survey asking customers to rate the importance of various factors/surfaces on a scale of 1 to 8. The question is for Timely treatment.\n",
    "* Item3 (int64), example: 2\n",
    "    For this column the variables represent responses to an eight-question survey asking customers to rate the importance of various factors/surfaces on a scale of 1 to 8. The question is for Timely visits. \n",
    "* Item4 (int64), example: 2\n",
    "    For this column the variables represent responses to an eight-question survey asking customers to rate the importance of various factors/surfaces on a scale of 1 to 8. The question is for Reliability.\n",
    "* Item5 (int64), example: 4\n",
    "    For this column the variables represent responses to an eight-question survey asking customers to rate the importance of various factors/surfaces on a scale of 1 to 8. The question is for Options.\n",
    "* Item6 (int64), example: 3\n",
    "    For this column the variables represent responses to an eight-question survey asking customers to rate the importance of various factors/surfaces on a scale of 1 to 8. The question is for Hours of treatment.\n",
    "* Item7 (int64), example: 3\n",
    "    For this column the variables represent responses to an eight-question survey asking customers to rate the importance of various factors/surfaces on a scale of 1 to 8. The question is for Courteous stff.\n",
    "* Item8 (int64), example: 4\n",
    "    For this column the variables represent responses to an eight-question survey asking customers to rate the importance of various factors/surfaces on a scale of 1 to 8. The question is for Evidence of active listening from doctor. "
   ]
  },
  {
   "cell_type": "markdown",
   "metadata": {},
   "source": [
    "# C1: Plan to Assess Quality Of Data\n",
    "Python will be used for all the cleaning of the data throughout the whole project. First, it will start with detecting any duplicate data, missing values, outliers, and fixing any data types. I will start with using .info() to check if every column is the right data type and fix which ever one needs fixing. Also, using the duplicate() method I will be able to see if there are duplicates in the columns that should have unique data or can also be handled by using the count() method.  "
   ]
  },
  {
   "cell_type": "markdown",
   "metadata": {},
   "source": [
    "# C2: Justification of Approach\n",
    "The functions discussed in part 1, will be used so that we can get a summary of the data in order to identify any problems that we will face later. For example, the info() function will provide information of the data types for each column of the table making it easier to see what columns we need to change to the correct types. Using the count() or duplicate function will give us information on whether a column that is suppose to be unique in data has duplicates, so we can properly take care of. Finally, the describe() function will give us a statistical summary of the table to take into account any outliers or if we need to normalize the data. "
   ]
  },
  {
   "cell_type": "markdown",
   "metadata": {},
   "source": [
    "# C3: Justification of Tools\n",
    "For all the data cleaning needs and visualizations were created using only Python. Python was all that was needed to gather information about the tables and to clean the data from the dataframe. The two packages that were used in order to help with the cleaning of the data were Numpy and Pandas. Numpy provides functions that are useful when transforming data and Pandas was used to create a dataframe from the CSV file. After, that it made it easy to clean the data and gather information from the dataframe. "
   ]
  },
  {
   "cell_type": "markdown",
   "metadata": {},
   "source": [
    "# C4: Provide the Code"
   ]
  },
  {
   "cell_type": "code",
   "execution_count": 1,
   "metadata": {},
   "outputs": [],
   "source": [
    "# First import all the necessary libraries \n",
    "import pandas as pd\n",
    "import numpy as np\n",
    "import matplotlib.pyplot as plt\n",
    "import seaborn as sns"
   ]
  },
  {
   "cell_type": "code",
   "execution_count": 2,
   "metadata": {},
   "outputs": [
    {
     "data": {
      "text/html": [
       "<div>\n",
       "<style scoped>\n",
       "    .dataframe tbody tr th:only-of-type {\n",
       "        vertical-align: middle;\n",
       "    }\n",
       "\n",
       "    .dataframe tbody tr th {\n",
       "        vertical-align: top;\n",
       "    }\n",
       "\n",
       "    .dataframe thead th {\n",
       "        text-align: right;\n",
       "    }\n",
       "</style>\n",
       "<table border=\"1\" class=\"dataframe\">\n",
       "  <thead>\n",
       "    <tr style=\"text-align: right;\">\n",
       "      <th></th>\n",
       "      <th>CaseOrder</th>\n",
       "      <th>Customer_id</th>\n",
       "      <th>Interaction</th>\n",
       "      <th>UID</th>\n",
       "      <th>City</th>\n",
       "      <th>State</th>\n",
       "      <th>County</th>\n",
       "      <th>Zip</th>\n",
       "      <th>Lat</th>\n",
       "      <th>Lng</th>\n",
       "      <th>...</th>\n",
       "      <th>TotalCharge</th>\n",
       "      <th>Additional_charges</th>\n",
       "      <th>Item1</th>\n",
       "      <th>Item2</th>\n",
       "      <th>Item3</th>\n",
       "      <th>Item4</th>\n",
       "      <th>Item5</th>\n",
       "      <th>Item6</th>\n",
       "      <th>Item7</th>\n",
       "      <th>Item8</th>\n",
       "    </tr>\n",
       "  </thead>\n",
       "  <tbody>\n",
       "    <tr>\n",
       "      <th>1</th>\n",
       "      <td>1</td>\n",
       "      <td>C412403</td>\n",
       "      <td>8cd49b13-f45a-4b47-a2bd-173ffa932c2f</td>\n",
       "      <td>3a83ddb66e2ae73798bdf1d705dc0932</td>\n",
       "      <td>Eva</td>\n",
       "      <td>AL</td>\n",
       "      <td>Morgan</td>\n",
       "      <td>35621</td>\n",
       "      <td>34.34960</td>\n",
       "      <td>-86.72508</td>\n",
       "      <td>...</td>\n",
       "      <td>3191.048774</td>\n",
       "      <td>17939.403420</td>\n",
       "      <td>3</td>\n",
       "      <td>3</td>\n",
       "      <td>2</td>\n",
       "      <td>2</td>\n",
       "      <td>4</td>\n",
       "      <td>3</td>\n",
       "      <td>3</td>\n",
       "      <td>4</td>\n",
       "    </tr>\n",
       "    <tr>\n",
       "      <th>2</th>\n",
       "      <td>2</td>\n",
       "      <td>Z919181</td>\n",
       "      <td>d2450b70-0337-4406-bdbb-bc1037f1734c</td>\n",
       "      <td>176354c5eef714957d486009feabf195</td>\n",
       "      <td>Marianna</td>\n",
       "      <td>FL</td>\n",
       "      <td>Jackson</td>\n",
       "      <td>32446</td>\n",
       "      <td>30.84513</td>\n",
       "      <td>-85.22907</td>\n",
       "      <td>...</td>\n",
       "      <td>4214.905346</td>\n",
       "      <td>17612.998120</td>\n",
       "      <td>3</td>\n",
       "      <td>4</td>\n",
       "      <td>3</td>\n",
       "      <td>4</td>\n",
       "      <td>4</td>\n",
       "      <td>4</td>\n",
       "      <td>3</td>\n",
       "      <td>3</td>\n",
       "    </tr>\n",
       "    <tr>\n",
       "      <th>3</th>\n",
       "      <td>3</td>\n",
       "      <td>F995323</td>\n",
       "      <td>a2057123-abf5-4a2c-abad-8ffe33512562</td>\n",
       "      <td>e19a0fa00aeda885b8a436757e889bc9</td>\n",
       "      <td>Sioux Falls</td>\n",
       "      <td>SD</td>\n",
       "      <td>Minnehaha</td>\n",
       "      <td>57110</td>\n",
       "      <td>43.54321</td>\n",
       "      <td>-96.63772</td>\n",
       "      <td>...</td>\n",
       "      <td>2177.586768</td>\n",
       "      <td>17505.192460</td>\n",
       "      <td>2</td>\n",
       "      <td>4</td>\n",
       "      <td>4</td>\n",
       "      <td>4</td>\n",
       "      <td>3</td>\n",
       "      <td>4</td>\n",
       "      <td>3</td>\n",
       "      <td>3</td>\n",
       "    </tr>\n",
       "    <tr>\n",
       "      <th>4</th>\n",
       "      <td>4</td>\n",
       "      <td>A879973</td>\n",
       "      <td>1dec528d-eb34-4079-adce-0d7a40e82205</td>\n",
       "      <td>cd17d7b6d152cb6f23957346d11c3f07</td>\n",
       "      <td>New Richland</td>\n",
       "      <td>MN</td>\n",
       "      <td>Waseca</td>\n",
       "      <td>56072</td>\n",
       "      <td>43.89744</td>\n",
       "      <td>-93.51479</td>\n",
       "      <td>...</td>\n",
       "      <td>2465.118965</td>\n",
       "      <td>12993.437350</td>\n",
       "      <td>3</td>\n",
       "      <td>5</td>\n",
       "      <td>5</td>\n",
       "      <td>3</td>\n",
       "      <td>4</td>\n",
       "      <td>5</td>\n",
       "      <td>5</td>\n",
       "      <td>5</td>\n",
       "    </tr>\n",
       "    <tr>\n",
       "      <th>5</th>\n",
       "      <td>5</td>\n",
       "      <td>C544523</td>\n",
       "      <td>5885f56b-d6da-43a3-8760-83583af94266</td>\n",
       "      <td>d2f0425877b10ed6bb381f3e2579424a</td>\n",
       "      <td>West Point</td>\n",
       "      <td>VA</td>\n",
       "      <td>King William</td>\n",
       "      <td>23181</td>\n",
       "      <td>37.59894</td>\n",
       "      <td>-76.88958</td>\n",
       "      <td>...</td>\n",
       "      <td>1885.655137</td>\n",
       "      <td>3716.525786</td>\n",
       "      <td>2</td>\n",
       "      <td>1</td>\n",
       "      <td>3</td>\n",
       "      <td>3</td>\n",
       "      <td>5</td>\n",
       "      <td>3</td>\n",
       "      <td>4</td>\n",
       "      <td>3</td>\n",
       "    </tr>\n",
       "  </tbody>\n",
       "</table>\n",
       "<p>5 rows × 52 columns</p>\n",
       "</div>"
      ],
      "text/plain": [
       "   CaseOrder Customer_id                           Interaction  \\\n",
       "1          1     C412403  8cd49b13-f45a-4b47-a2bd-173ffa932c2f   \n",
       "2          2     Z919181  d2450b70-0337-4406-bdbb-bc1037f1734c   \n",
       "3          3     F995323  a2057123-abf5-4a2c-abad-8ffe33512562   \n",
       "4          4     A879973  1dec528d-eb34-4079-adce-0d7a40e82205   \n",
       "5          5     C544523  5885f56b-d6da-43a3-8760-83583af94266   \n",
       "\n",
       "                                UID          City State        County    Zip  \\\n",
       "1  3a83ddb66e2ae73798bdf1d705dc0932           Eva    AL        Morgan  35621   \n",
       "2  176354c5eef714957d486009feabf195      Marianna    FL       Jackson  32446   \n",
       "3  e19a0fa00aeda885b8a436757e889bc9   Sioux Falls    SD     Minnehaha  57110   \n",
       "4  cd17d7b6d152cb6f23957346d11c3f07  New Richland    MN        Waseca  56072   \n",
       "5  d2f0425877b10ed6bb381f3e2579424a    West Point    VA  King William  23181   \n",
       "\n",
       "        Lat       Lng  ...  TotalCharge Additional_charges Item1 Item2  Item3  \\\n",
       "1  34.34960 -86.72508  ...  3191.048774       17939.403420     3     3      2   \n",
       "2  30.84513 -85.22907  ...  4214.905346       17612.998120     3     4      3   \n",
       "3  43.54321 -96.63772  ...  2177.586768       17505.192460     2     4      4   \n",
       "4  43.89744 -93.51479  ...  2465.118965       12993.437350     3     5      5   \n",
       "5  37.59894 -76.88958  ...  1885.655137        3716.525786     2     1      3   \n",
       "\n",
       "   Item4 Item5 Item6  Item7 Item8  \n",
       "1      2     4     3      3     4  \n",
       "2      4     4     4      3     3  \n",
       "3      4     3     4      3     3  \n",
       "4      3     4     5      5     5  \n",
       "5      3     5     3      4     3  \n",
       "\n",
       "[5 rows x 52 columns]"
      ]
     },
     "execution_count": 2,
     "metadata": {},
     "output_type": "execute_result"
    }
   ],
   "source": [
    "# create the dataframe and make a copy of it.\n",
    "medical_data = pd.read_csv('medical_raw_data.csv', index_col=0)\n",
    "medical_data_copy = medical_data.copy()\n",
    "medical_data_copy.head(5)"
   ]
  },
  {
   "cell_type": "code",
   "execution_count": 3,
   "metadata": {},
   "outputs": [
    {
     "name": "stdout",
     "output_type": "stream",
     "text": [
      "<class 'pandas.core.frame.DataFrame'>\n",
      "Int64Index: 10000 entries, 1 to 10000\n",
      "Data columns (total 52 columns):\n",
      " #   Column              Non-Null Count  Dtype  \n",
      "---  ------              --------------  -----  \n",
      " 0   CaseOrder           10000 non-null  int64  \n",
      " 1   Customer_id         10000 non-null  object \n",
      " 2   Interaction         10000 non-null  object \n",
      " 3   UID                 10000 non-null  object \n",
      " 4   City                10000 non-null  object \n",
      " 5   State               10000 non-null  object \n",
      " 6   County              10000 non-null  object \n",
      " 7   Zip                 10000 non-null  int64  \n",
      " 8   Lat                 10000 non-null  float64\n",
      " 9   Lng                 10000 non-null  float64\n",
      " 10  Population          10000 non-null  int64  \n",
      " 11  Area                10000 non-null  object \n",
      " 12  Timezone            10000 non-null  object \n",
      " 13  Job                 10000 non-null  object \n",
      " 14  Children            7412 non-null   float64\n",
      " 15  Age                 7586 non-null   float64\n",
      " 16  Education           10000 non-null  object \n",
      " 17  Employment          10000 non-null  object \n",
      " 18  Income              7536 non-null   float64\n",
      " 19  Marital             10000 non-null  object \n",
      " 20  Gender              10000 non-null  object \n",
      " 21  ReAdmis             10000 non-null  object \n",
      " 22  VitD_levels         10000 non-null  float64\n",
      " 23  Doc_visits          10000 non-null  int64  \n",
      " 24  Full_meals_eaten    10000 non-null  int64  \n",
      " 25  VitD_supp           10000 non-null  int64  \n",
      " 26  Soft_drink          7533 non-null   object \n",
      " 27  Initial_admin       10000 non-null  object \n",
      " 28  HighBlood           10000 non-null  object \n",
      " 29  Stroke              10000 non-null  object \n",
      " 30  Complication_risk   10000 non-null  object \n",
      " 31  Overweight          9018 non-null   float64\n",
      " 32  Arthritis           10000 non-null  object \n",
      " 33  Diabetes            10000 non-null  object \n",
      " 34  Hyperlipidemia      10000 non-null  object \n",
      " 35  BackPain            10000 non-null  object \n",
      " 36  Anxiety             9016 non-null   float64\n",
      " 37  Allergic_rhinitis   10000 non-null  object \n",
      " 38  Reflux_esophagitis  10000 non-null  object \n",
      " 39  Asthma              10000 non-null  object \n",
      " 40  Services            10000 non-null  object \n",
      " 41  Initial_days        8944 non-null   float64\n",
      " 42  TotalCharge         10000 non-null  float64\n",
      " 43  Additional_charges  10000 non-null  float64\n",
      " 44  Item1               10000 non-null  int64  \n",
      " 45  Item2               10000 non-null  int64  \n",
      " 46  Item3               10000 non-null  int64  \n",
      " 47  Item4               10000 non-null  int64  \n",
      " 48  Item5               10000 non-null  int64  \n",
      " 49  Item6               10000 non-null  int64  \n",
      " 50  Item7               10000 non-null  int64  \n",
      " 51  Item8               10000 non-null  int64  \n",
      "dtypes: float64(11), int64(14), object(27)\n",
      "memory usage: 4.0+ MB\n"
     ]
    }
   ],
   "source": [
    "# Check the data types of the columns and size of the dataset.\n",
    "medical_data_copy.info()"
   ]
  },
  {
   "cell_type": "markdown",
   "metadata": {},
   "source": [
    "Now going to look at the columns to see if they are suitable to change into categorical data types. The following columns we will look at are Area, Timezone, Education, and Employment. "
   ]
  },
  {
   "cell_type": "code",
   "execution_count": 4,
   "metadata": {},
   "outputs": [
    {
     "data": {
      "text/plain": [
       "Female                  5018\n",
       "Male                    4768\n",
       "Prefer not to answer     214\n",
       "Name: Gender, dtype: int64"
      ]
     },
     "execution_count": 4,
     "metadata": {},
     "output_type": "execute_result"
    }
   ],
   "source": [
    "# Look at the column Gender\n",
    "medical_data_copy['Gender'].value_counts()"
   ]
  },
  {
   "cell_type": "code",
   "execution_count": 5,
   "metadata": {},
   "outputs": [
    {
     "data": {
      "text/plain": [
       "Rural       3369\n",
       "Suburban    3328\n",
       "Urban       3303\n",
       "Name: Area, dtype: int64"
      ]
     },
     "execution_count": 5,
     "metadata": {},
     "output_type": "execute_result"
    }
   ],
   "source": [
    "# Checking column Area to see if suitable for categorical data\n",
    "medical_data_copy['Area'].value_counts()"
   ]
  },
  {
   "cell_type": "code",
   "execution_count": 6,
   "metadata": {},
   "outputs": [
    {
     "data": {
      "text/plain": [
       "America/New_York                  3889\n",
       "America/Chicago                   3771\n",
       "America/Los_Angeles                937\n",
       "America/Denver                     612\n",
       "America/Detroit                    262\n",
       "America/Indiana/Indianapolis       151\n",
       "America/Phoenix                    100\n",
       "America/Boise                       86\n",
       "America/Anchorage                   50\n",
       "America/Puerto_Rico                 43\n",
       "Pacific/Honolulu                    34\n",
       "America/Menominee                   14\n",
       "America/Nome                        12\n",
       "America/Indiana/Vincennes            8\n",
       "America/Kentucky/Louisville          6\n",
       "America/Sitka                        6\n",
       "America/Toronto                      5\n",
       "America/Indiana/Marengo              3\n",
       "America/Indiana/Tell_City            3\n",
       "America/North_Dakota/Beulah          2\n",
       "America/Yakutat                      1\n",
       "America/Indiana/Winamac              1\n",
       "America/Indiana/Knox                 1\n",
       "America/North_Dakota/New_Salem       1\n",
       "America/Indiana/Vevay                1\n",
       "America/Adak                         1\n",
       "Name: Timezone, dtype: int64"
      ]
     },
     "execution_count": 6,
     "metadata": {},
     "output_type": "execute_result"
    }
   ],
   "source": [
    "# Checking column Timezone to see if suitable for categorical data\n",
    "medical_data_copy['Timezone'].value_counts()"
   ]
  },
  {
   "cell_type": "code",
   "execution_count": 7,
   "metadata": {},
   "outputs": [
    {
     "data": {
      "text/plain": [
       "Regular High School Diploma                 2444\n",
       "Bachelor's Degree                           1724\n",
       "Some College, 1 or More Years, No Degree    1484\n",
       "9th Grade to 12th Grade, No Diploma          832\n",
       "Associate's Degree                           797\n",
       "Master's Degree                              701\n",
       "Some College, Less than 1 Year               642\n",
       "Nursery School to 8th Grade                  552\n",
       "GED or Alternative Credential                389\n",
       "Professional School Degree                   208\n",
       "No Schooling Completed                       133\n",
       "Doctorate Degree                              94\n",
       "Name: Education, dtype: int64"
      ]
     },
     "execution_count": 7,
     "metadata": {},
     "output_type": "execute_result"
    }
   ],
   "source": [
    "# Checking column Education to see if suitable for categorical data\n",
    "medical_data_copy['Education'].value_counts()"
   ]
  },
  {
   "cell_type": "code",
   "execution_count": 8,
   "metadata": {},
   "outputs": [
    {
     "data": {
      "text/plain": [
       "Full Time     6029\n",
       "Student       1017\n",
       "Part Time      991\n",
       "Unemployed     983\n",
       "Retired        980\n",
       "Name: Employment, dtype: int64"
      ]
     },
     "execution_count": 8,
     "metadata": {},
     "output_type": "execute_result"
    }
   ],
   "source": [
    "# Checking column Employment to see if suitable for categorical data\n",
    "medical_data_copy['Employment'].value_counts()"
   ]
  },
  {
   "cell_type": "markdown",
   "metadata": {},
   "source": [
    "Now we are going to check on the columns Children, Age, and Income to make sure no column has unreasonable bounds."
   ]
  },
  {
   "cell_type": "code",
   "execution_count": 9,
   "metadata": {},
   "outputs": [
    {
     "data": {
      "text/plain": [
       "count    7586.000000\n",
       "mean       53.295676\n",
       "std        20.659182\n",
       "min        18.000000\n",
       "25%        35.000000\n",
       "50%        53.000000\n",
       "75%        71.000000\n",
       "max        89.000000\n",
       "Name: Age, dtype: float64"
      ]
     },
     "execution_count": 9,
     "metadata": {},
     "output_type": "execute_result"
    }
   ],
   "source": [
    "# Check if Age is within reasonable range.\n",
    "medical_data_copy['Age'].describe()"
   ]
  },
  {
   "cell_type": "code",
   "execution_count": 10,
   "metadata": {},
   "outputs": [
    {
     "data": {
      "text/plain": [
       "count    7412.000000\n",
       "mean        2.098219\n",
       "std         2.155427\n",
       "min         0.000000\n",
       "25%         0.000000\n",
       "50%         1.000000\n",
       "75%         3.000000\n",
       "max        10.000000\n",
       "Name: Children, dtype: float64"
      ]
     },
     "execution_count": 10,
     "metadata": {},
     "output_type": "execute_result"
    }
   ],
   "source": [
    "# Check if Children is within reasonable range.\n",
    "medical_data_copy['Children'].describe()"
   ]
  },
  {
   "cell_type": "code",
   "execution_count": 11,
   "metadata": {},
   "outputs": [
    {
     "data": {
      "text/plain": [
       "count      7536.000000\n",
       "mean      40484.438268\n",
       "std       28664.861050\n",
       "min         154.080000\n",
       "25%       19450.792500\n",
       "50%       33942.280000\n",
       "75%       54075.235000\n",
       "max      207249.130000\n",
       "Name: Income, dtype: float64"
      ]
     },
     "execution_count": 11,
     "metadata": {},
     "output_type": "execute_result"
    }
   ],
   "source": [
    "# Check if Income is within reasonable range.\n",
    "medical_data_copy['Income'].describe()"
   ]
  },
  {
   "cell_type": "markdown",
   "metadata": {},
   "source": [
    "Now to check on the last 8 items to make sure that the data is within 1-8."
   ]
  },
  {
   "cell_type": "code",
   "execution_count": 12,
   "metadata": {},
   "outputs": [
    {
     "data": {
      "text/plain": [
       "4    3455\n",
       "3    3404\n",
       "5    1377\n",
       "2    1315\n",
       "6     225\n",
       "1     213\n",
       "7      10\n",
       "8       1\n",
       "Name: Item1, dtype: int64"
      ]
     },
     "execution_count": 12,
     "metadata": {},
     "output_type": "execute_result"
    }
   ],
   "source": [
    "# Verify to make sure its 1-8\n",
    "medical_data_copy['Item1'].value_counts()"
   ]
  },
  {
   "cell_type": "code",
   "execution_count": 13,
   "metadata": {},
   "outputs": [
    {
     "data": {
      "text/plain": [
       "3    3439\n",
       "4    3351\n",
       "5    1421\n",
       "2    1360\n",
       "1     213\n",
       "6     204\n",
       "7      12\n",
       "Name: Item2, dtype: int64"
      ]
     },
     "execution_count": 13,
     "metadata": {},
     "output_type": "execute_result"
    }
   ],
   "source": [
    "# Verify Item2 to make sure its 1-8\n",
    "medical_data_copy['Item2'].value_counts()"
   ]
  },
  {
   "cell_type": "code",
   "execution_count": 14,
   "metadata": {},
   "outputs": [
    {
     "data": {
      "text/plain": [
       "4    3464\n",
       "3    3379\n",
       "5    1358\n",
       "2    1356\n",
       "6     220\n",
       "1     211\n",
       "7      11\n",
       "8       1\n",
       "Name: Item3, dtype: int64"
      ]
     },
     "execution_count": 14,
     "metadata": {},
     "output_type": "execute_result"
    }
   ],
   "source": [
    "# Verify Item3 to make sure its 1-8\n",
    "medical_data_copy['Item3'].value_counts()"
   ]
  },
  {
   "cell_type": "code",
   "execution_count": 15,
   "metadata": {},
   "outputs": [
    {
     "data": {
      "text/plain": [
       "3    3422\n",
       "4    3394\n",
       "5    1388\n",
       "2    1346\n",
       "6     231\n",
       "1     207\n",
       "7      12\n",
       "Name: Item4, dtype: int64"
      ]
     },
     "execution_count": 15,
     "metadata": {},
     "output_type": "execute_result"
    }
   ],
   "source": [
    "# Verify Item4 to make sure its 1-8\n",
    "medical_data_copy['Item4'].value_counts()"
   ]
  },
  {
   "cell_type": "code",
   "execution_count": 16,
   "metadata": {},
   "outputs": [
    {
     "data": {
      "text/plain": [
       "4    3446\n",
       "3    3423\n",
       "2    1380\n",
       "5    1308\n",
       "6     219\n",
       "1     211\n",
       "7      13\n",
       "Name: Item5, dtype: int64"
      ]
     },
     "execution_count": 16,
     "metadata": {},
     "output_type": "execute_result"
    }
   ],
   "source": [
    "# verify Item5 to make sure its 1-8\n",
    "medical_data_copy['Item5'].value_counts()"
   ]
  },
  {
   "cell_type": "code",
   "execution_count": 17,
   "metadata": {},
   "outputs": [
    {
     "data": {
      "text/plain": [
       "4    3464\n",
       "3    3371\n",
       "5    1403\n",
       "2    1319\n",
       "6     220\n",
       "1     213\n",
       "7      10\n",
       "Name: Item6, dtype: int64"
      ]
     },
     "execution_count": 17,
     "metadata": {},
     "output_type": "execute_result"
    }
   ],
   "source": [
    "# Verify Item6 to make sure its 1-8\n",
    "medical_data_copy['Item6'].value_counts()"
   ]
  },
  {
   "cell_type": "code",
   "execution_count": 18,
   "metadata": {},
   "outputs": [
    {
     "data": {
      "text/plain": [
       "4    3487\n",
       "3    3456\n",
       "2    1345\n",
       "5    1274\n",
       "1     215\n",
       "6     212\n",
       "7      11\n",
       "Name: Item7, dtype: int64"
      ]
     },
     "execution_count": 18,
     "metadata": {},
     "output_type": "execute_result"
    }
   ],
   "source": [
    "# Verify Item7 to make sure its 1-8\n",
    "medical_data_copy['Item7'].value_counts()"
   ]
  },
  {
   "cell_type": "code",
   "execution_count": 19,
   "metadata": {},
   "outputs": [
    {
     "data": {
      "text/plain": [
       "3    3401\n",
       "4    3337\n",
       "5    1429\n",
       "2    1391\n",
       "6     221\n",
       "1     209\n",
       "7      12\n",
       "Name: Item8, dtype: int64"
      ]
     },
     "execution_count": 19,
     "metadata": {},
     "output_type": "execute_result"
    }
   ],
   "source": [
    "# Verify Item8 to make sure its 1-8\n",
    "medical_data_copy['Item8'].value_counts()"
   ]
  },
  {
   "cell_type": "code",
   "execution_count": 20,
   "metadata": {},
   "outputs": [
    {
     "data": {
      "text/plain": [
       "America/New_York                  3889\n",
       "America/Chicago                   3771\n",
       "America/Los_Angeles                937\n",
       "America/Denver                     612\n",
       "America/Detroit                    262\n",
       "America/Indiana/Indianapolis       151\n",
       "America/Phoenix                    100\n",
       "America/Boise                       86\n",
       "America/Anchorage                   50\n",
       "America/Puerto_Rico                 43\n",
       "Pacific/Honolulu                    34\n",
       "America/Menominee                   14\n",
       "America/Nome                        12\n",
       "America/Indiana/Vincennes            8\n",
       "America/Kentucky/Louisville          6\n",
       "America/Sitka                        6\n",
       "America/Toronto                      5\n",
       "America/Indiana/Marengo              3\n",
       "America/Indiana/Tell_City            3\n",
       "America/North_Dakota/Beulah          2\n",
       "America/Yakutat                      1\n",
       "America/Indiana/Winamac              1\n",
       "America/Indiana/Knox                 1\n",
       "America/North_Dakota/New_Salem       1\n",
       "America/Indiana/Vevay                1\n",
       "America/Adak                         1\n",
       "Name: Timezone, dtype: int64"
      ]
     },
     "execution_count": 20,
     "metadata": {},
     "output_type": "execute_result"
    }
   ],
   "source": [
    "# Check timezone for data\n",
    "medical_data_copy['Timezone'].value_counts()"
   ]
  },
  {
   "cell_type": "code",
   "execution_count": 21,
   "metadata": {},
   "outputs": [
    {
     "data": {
      "text/plain": [
       "CaseOrder                0\n",
       "Customer_id              0\n",
       "Interaction              0\n",
       "UID                      0\n",
       "City                     0\n",
       "State                    0\n",
       "County                   0\n",
       "Zip                      0\n",
       "Lat                      0\n",
       "Lng                      0\n",
       "Population               0\n",
       "Area                     0\n",
       "Timezone                 0\n",
       "Job                      0\n",
       "Children              2588\n",
       "Age                   2414\n",
       "Education                0\n",
       "Employment               0\n",
       "Income                2464\n",
       "Marital                  0\n",
       "Gender                   0\n",
       "ReAdmis                  0\n",
       "VitD_levels              0\n",
       "Doc_visits               0\n",
       "Full_meals_eaten         0\n",
       "VitD_supp                0\n",
       "Soft_drink            2467\n",
       "Initial_admin            0\n",
       "HighBlood                0\n",
       "Stroke                   0\n",
       "Complication_risk        0\n",
       "Overweight             982\n",
       "Arthritis                0\n",
       "Diabetes                 0\n",
       "Hyperlipidemia           0\n",
       "BackPain                 0\n",
       "Anxiety                984\n",
       "Allergic_rhinitis        0\n",
       "Reflux_esophagitis       0\n",
       "Asthma                   0\n",
       "Services                 0\n",
       "Initial_days          1056\n",
       "TotalCharge              0\n",
       "Additional_charges       0\n",
       "Item1                    0\n",
       "Item2                    0\n",
       "Item3                    0\n",
       "Item4                    0\n",
       "Item5                    0\n",
       "Item6                    0\n",
       "Item7                    0\n",
       "Item8                    0\n",
       "dtype: int64"
      ]
     },
     "execution_count": 21,
     "metadata": {},
     "output_type": "execute_result"
    }
   ],
   "source": [
    "# Check for null values \n",
    "medical_data_copy.isnull().sum()"
   ]
  },
  {
   "cell_type": "code",
   "execution_count": 22,
   "metadata": {},
   "outputs": [
    {
     "data": {
      "text/plain": [
       "Children        2588\n",
       "Age             2414\n",
       "Income          2464\n",
       "Soft_drink      2467\n",
       "Overweight       982\n",
       "Anxiety          984\n",
       "Initial_days    1056\n",
       "dtype: int64"
      ]
     },
     "execution_count": 22,
     "metadata": {},
     "output_type": "execute_result"
    }
   ],
   "source": [
    "# Lets look at what columns have null values\n",
    "null_columns_counts = medical_data_copy.isnull().sum()\n",
    "null_columns_counts = null_columns_counts[null_columns_counts > 0]\n",
    "null_columns_counts"
   ]
  },
  {
   "cell_type": "markdown",
   "metadata": {},
   "source": [
    "# D1: Cleaning Findings\n",
    "There was issues discovered while exploring the data that should be fixed before continueing eith the analysis. First we do not need to worry about the missing data as the columns that have missing data are not needed to answer the research question, so we can just delete those columns from the dataframe. Then for columns that require a yes or no answer are stored here as floats but it will be better to have those columns as boolean data type. Finally for the columns like area, timezones, and education would be changed to categorical as it fits better. \n"
   ]
  },
  {
   "cell_type": "markdown",
   "metadata": {},
   "source": [
    "# D2: Justification of Mitigation Methods\n",
    "For the columns Children, Age, Income, Soft_drink, Overweight, Anxiety, Initial_days we will just delete or columns or create a new dataframe without those columns. As for why we are doing this is because these columns are not needed to answer our research question so we don't need to look into these columns. Another, reason is becuase we cannot just fill in the data from the other rows as this is medical information about patients and we want that to be as accurate as possible. \n",
    "\n",
    "For the column timezone, there is going to be a standarized timezone for the columns. Instead of having a timezone for each individual city, we are going to divide them into the standard timezones that these cities fall into. To do this will create a dictionary with the standard timezones and putting the city into their respective timezones. \n",
    "\n",
    "For the Gender column we are going to change it to just 'M', 'F', 'NP', instead of the origial, 'Male', 'Female', 'Prefer not to answer'. So we can then change this column into a categorical type. \n",
    "\n",
    "Lastly, for all the float and integer columns that are more appropriately to be stored as categorical types will all be changed to categorical types. "
   ]
  },
  {
   "cell_type": "markdown",
   "metadata": {},
   "source": [
    "# D3: Summary of the Outcomes \n",
    "Performing the above cleaning will greatly make it easier to perform any analysis on the data in the future. First, with changing the variables into categorical data it will help with potential values that can be inputed into the column, forcing a standardized entry. With standardizing the restrictions for these columns it will help with the overall process of the analysis. Next, by changing the timezones into the already existing timezones instead of each city having one, it will clean the data and make it easier to read, while working on it. "
   ]
  },
  {
   "cell_type": "markdown",
   "metadata": {},
   "source": [
    "# D4: Mitigation Code"
   ]
  },
  {
   "cell_type": "code",
   "execution_count": 23,
   "metadata": {},
   "outputs": [],
   "source": [
    "# Here we are changing the columns to categorical data type \n",
    "medical_data_copy[['Area', 'Education', 'Employment', 'Marital', 'Initial_admin', 'Complication_risk', \n",
    "                   'Services']] = medical_data_copy[['Area', 'Education', 'Employment', 'Marital', 'Initial_admin', 'Complication_risk', \n",
    "                   'Services']].astype('category')\n",
    "\n",
    "# Change the gender column to what we said earlier\n",
    "medical_data_copy['Gender'].replace({\n",
    "                            'Female': 'F',\n",
    "                            'Male' : 'M',\n",
    "                            'Prefer not to answer' : 'NP'\n",
    "                            }, inplace=True)\n",
    "\n",
    "# Convert gender to categorical data type\n",
    "medical_data_copy['Gender'] = medical_data_copy['Gender'].astype('category')\n",
    "\n",
    "# Change the timezone column to timezone specific values\n",
    "medical_data_copy['Timezone'].replace({\n",
    "                            'America/New_York': 'Eastern Daylight Time',\n",
    "                            'America/Chicago': 'Central Daylight Time',\n",
    "                            'America/Los_Angeles': 'Pacific Daylight Time',\n",
    "                            'America/Denver': 'Mountain Daylight Time',\n",
    "                            'America/Detroit': 'Eastern Daylight Time',\n",
    "                            'America/Indiana/Indianapolis': 'Eastern Daylight Time',\n",
    "                            'America/Phoenix': 'Mountain Standard Time',\n",
    "                            'America/Boise': 'Mountain Daylight Time',\n",
    "                            'America/Ancorage': 'Alaska Daylight Time',\n",
    "                            'America/Puerto_Rico': 'Atlantic Standard Time',\n",
    "                            'America/Honolulu': 'Hawaii-Aleutian Standard Time',\n",
    "                            'America/Menominie': 'Central Daylight Time',\n",
    "                            'America/Nome': 'Alaska Daylight Time',\n",
    "                            'America/Indiana/Vincennes': 'Eastern Daylight Time',\n",
    "                            'America/Kentucky/Louisville': 'Eastern Daylight Time',\n",
    "                            'America/Sitka': 'Alaska Daylight Time',\n",
    "                            'America/Toronto': 'Eastern Daylight Time',\n",
    "                            'America/Indiana/Marengo': 'Eastern Daylight Time',\n",
    "                            'America/Indiana/Tell_City': 'Central Daylight Time',\n",
    "                            'America/north_Dakota/Beulah': 'Central Daylight Time',\n",
    "                            'America/Yakutat': 'Alaska Daylight Time',\n",
    "                            'America/Indiana/WInamac': 'Eastern Daylight Time',\n",
    "                            'America/Indiana/Knox': 'Central Daylight Time',\n",
    "                            'America/North_Dakota/New_Salem': 'Central Daylight Time',\n",
    "                            'America/Indiana/Vevay': 'Eastern Daylight Time',\n",
    "                            'America/Adak' : 'Hawaii-Aleutian Standard Time'\n",
    "                            }, inplace=True)\n",
    "\n",
    "# Convert timezone to categorical data type\n",
    "medical_data_copy['Timezone'] = medical_data_copy['Timezone'].astype('category')\n",
    "\n",
    "# Convert the columns with 1 and 0 to boolean \n",
    "medical_data_copy[['ReAdmis', 'HighBlood', 'Stroke', 'Arthritis', 'Diabetes', 'Hyperlipidemia', \n",
    "                   'BackPain', 'Reflux_esophagitis', 'Allergic_rhinitis', 'Asthma']] = medical_data_copy[['ReAdmis', 'HighBlood', 'Stroke', 'Arthritis', 'Diabetes', 'Hyperlipidemia', \n",
    "                   'BackPain', 'Reflux_esophagitis', 'Allergic_rhinitis', 'Asthma']].astype('bool')\n",
    "\n",
    "# Now we are going to drop the columns with excessive null values\n",
    "column_drop = ['Children', 'Age', 'Income', 'Soft_drink', 'Overweight', 'Anxiety', 'Initial_days']\n",
    "medical_data_copy.drop(columns=column_drop, inplace=True)\n"
   ]
  },
  {
   "cell_type": "code",
   "execution_count": 24,
   "metadata": {},
   "outputs": [
    {
     "name": "stdout",
     "output_type": "stream",
     "text": [
      "<class 'pandas.core.frame.DataFrame'>\n",
      "Int64Index: 10000 entries, 1 to 10000\n",
      "Data columns (total 45 columns):\n",
      " #   Column              Non-Null Count  Dtype   \n",
      "---  ------              --------------  -----   \n",
      " 0   CaseOrder           10000 non-null  int64   \n",
      " 1   Customer_id         10000 non-null  object  \n",
      " 2   Interaction         10000 non-null  object  \n",
      " 3   UID                 10000 non-null  object  \n",
      " 4   City                10000 non-null  object  \n",
      " 5   State               10000 non-null  object  \n",
      " 6   County              10000 non-null  object  \n",
      " 7   Zip                 10000 non-null  int64   \n",
      " 8   Lat                 10000 non-null  float64 \n",
      " 9   Lng                 10000 non-null  float64 \n",
      " 10  Population          10000 non-null  int64   \n",
      " 11  Area                10000 non-null  category\n",
      " 12  Timezone            10000 non-null  category\n",
      " 13  Job                 10000 non-null  object  \n",
      " 14  Education           10000 non-null  category\n",
      " 15  Employment          10000 non-null  category\n",
      " 16  Marital             10000 non-null  category\n",
      " 17  Gender              10000 non-null  category\n",
      " 18  ReAdmis             10000 non-null  bool    \n",
      " 19  VitD_levels         10000 non-null  float64 \n",
      " 20  Doc_visits          10000 non-null  int64   \n",
      " 21  Full_meals_eaten    10000 non-null  int64   \n",
      " 22  VitD_supp           10000 non-null  int64   \n",
      " 23  Initial_admin       10000 non-null  category\n",
      " 24  HighBlood           10000 non-null  bool    \n",
      " 25  Stroke              10000 non-null  bool    \n",
      " 26  Complication_risk   10000 non-null  category\n",
      " 27  Arthritis           10000 non-null  bool    \n",
      " 28  Diabetes            10000 non-null  bool    \n",
      " 29  Hyperlipidemia      10000 non-null  bool    \n",
      " 30  BackPain            10000 non-null  bool    \n",
      " 31  Allergic_rhinitis   10000 non-null  bool    \n",
      " 32  Reflux_esophagitis  10000 non-null  bool    \n",
      " 33  Asthma              10000 non-null  bool    \n",
      " 34  Services            10000 non-null  category\n",
      " 35  TotalCharge         10000 non-null  float64 \n",
      " 36  Additional_charges  10000 non-null  float64 \n",
      " 37  Item1               10000 non-null  int64   \n",
      " 38  Item2               10000 non-null  int64   \n",
      " 39  Item3               10000 non-null  int64   \n",
      " 40  Item4               10000 non-null  int64   \n",
      " 41  Item5               10000 non-null  int64   \n",
      " 42  Item6               10000 non-null  int64   \n",
      " 43  Item7               10000 non-null  int64   \n",
      " 44  Item8               10000 non-null  int64   \n",
      "dtypes: bool(10), category(9), float64(5), int64(14), object(7)\n",
      "memory usage: 2.2+ MB\n"
     ]
    }
   ],
   "source": [
    "medical_data_copy.info()"
   ]
  },
  {
   "cell_type": "code",
   "execution_count": 25,
   "metadata": {},
   "outputs": [
    {
     "data": {
      "text/plain": [
       "CaseOrder             0\n",
       "Customer_id           0\n",
       "Interaction           0\n",
       "UID                   0\n",
       "City                  0\n",
       "State                 0\n",
       "County                0\n",
       "Zip                   0\n",
       "Lat                   0\n",
       "Lng                   0\n",
       "Population            0\n",
       "Area                  0\n",
       "Timezone              0\n",
       "Job                   0\n",
       "Education             0\n",
       "Employment            0\n",
       "Marital               0\n",
       "Gender                0\n",
       "ReAdmis               0\n",
       "VitD_levels           0\n",
       "Doc_visits            0\n",
       "Full_meals_eaten      0\n",
       "VitD_supp             0\n",
       "Initial_admin         0\n",
       "HighBlood             0\n",
       "Stroke                0\n",
       "Complication_risk     0\n",
       "Arthritis             0\n",
       "Diabetes              0\n",
       "Hyperlipidemia        0\n",
       "BackPain              0\n",
       "Allergic_rhinitis     0\n",
       "Reflux_esophagitis    0\n",
       "Asthma                0\n",
       "Services              0\n",
       "TotalCharge           0\n",
       "Additional_charges    0\n",
       "Item1                 0\n",
       "Item2                 0\n",
       "Item3                 0\n",
       "Item4                 0\n",
       "Item5                 0\n",
       "Item6                 0\n",
       "Item7                 0\n",
       "Item8                 0\n",
       "dtype: int64"
      ]
     },
     "execution_count": 25,
     "metadata": {},
     "output_type": "execute_result"
    }
   ],
   "source": [
    "medical_data_copy.isnull().sum()"
   ]
  },
  {
   "cell_type": "markdown",
   "metadata": {},
   "source": [
    "# D5: Clean Data\n",
    "A copy of the cleaned data will be submitted as a CSV file. "
   ]
  },
  {
   "cell_type": "code",
   "execution_count": 26,
   "metadata": {},
   "outputs": [
    {
     "data": {
      "text/html": [
       "<div>\n",
       "<style scoped>\n",
       "    .dataframe tbody tr th:only-of-type {\n",
       "        vertical-align: middle;\n",
       "    }\n",
       "\n",
       "    .dataframe tbody tr th {\n",
       "        vertical-align: top;\n",
       "    }\n",
       "\n",
       "    .dataframe thead th {\n",
       "        text-align: right;\n",
       "    }\n",
       "</style>\n",
       "<table border=\"1\" class=\"dataframe\">\n",
       "  <thead>\n",
       "    <tr style=\"text-align: right;\">\n",
       "      <th></th>\n",
       "      <th>CaseOrder</th>\n",
       "      <th>Customer_id</th>\n",
       "      <th>Interaction</th>\n",
       "      <th>UID</th>\n",
       "      <th>City</th>\n",
       "      <th>State</th>\n",
       "      <th>County</th>\n",
       "      <th>Zip</th>\n",
       "      <th>Lat</th>\n",
       "      <th>Lng</th>\n",
       "      <th>...</th>\n",
       "      <th>TotalCharge</th>\n",
       "      <th>Additional_charges</th>\n",
       "      <th>Item1</th>\n",
       "      <th>Item2</th>\n",
       "      <th>Item3</th>\n",
       "      <th>Item4</th>\n",
       "      <th>Item5</th>\n",
       "      <th>Item6</th>\n",
       "      <th>Item7</th>\n",
       "      <th>Item8</th>\n",
       "    </tr>\n",
       "  </thead>\n",
       "  <tbody>\n",
       "    <tr>\n",
       "      <th>1</th>\n",
       "      <td>1</td>\n",
       "      <td>C412403</td>\n",
       "      <td>8cd49b13-f45a-4b47-a2bd-173ffa932c2f</td>\n",
       "      <td>3a83ddb66e2ae73798bdf1d705dc0932</td>\n",
       "      <td>Eva</td>\n",
       "      <td>AL</td>\n",
       "      <td>Morgan</td>\n",
       "      <td>35621</td>\n",
       "      <td>34.34960</td>\n",
       "      <td>-86.72508</td>\n",
       "      <td>...</td>\n",
       "      <td>3191.048774</td>\n",
       "      <td>17939.403420</td>\n",
       "      <td>3</td>\n",
       "      <td>3</td>\n",
       "      <td>2</td>\n",
       "      <td>2</td>\n",
       "      <td>4</td>\n",
       "      <td>3</td>\n",
       "      <td>3</td>\n",
       "      <td>4</td>\n",
       "    </tr>\n",
       "    <tr>\n",
       "      <th>2</th>\n",
       "      <td>2</td>\n",
       "      <td>Z919181</td>\n",
       "      <td>d2450b70-0337-4406-bdbb-bc1037f1734c</td>\n",
       "      <td>176354c5eef714957d486009feabf195</td>\n",
       "      <td>Marianna</td>\n",
       "      <td>FL</td>\n",
       "      <td>Jackson</td>\n",
       "      <td>32446</td>\n",
       "      <td>30.84513</td>\n",
       "      <td>-85.22907</td>\n",
       "      <td>...</td>\n",
       "      <td>4214.905346</td>\n",
       "      <td>17612.998120</td>\n",
       "      <td>3</td>\n",
       "      <td>4</td>\n",
       "      <td>3</td>\n",
       "      <td>4</td>\n",
       "      <td>4</td>\n",
       "      <td>4</td>\n",
       "      <td>3</td>\n",
       "      <td>3</td>\n",
       "    </tr>\n",
       "    <tr>\n",
       "      <th>3</th>\n",
       "      <td>3</td>\n",
       "      <td>F995323</td>\n",
       "      <td>a2057123-abf5-4a2c-abad-8ffe33512562</td>\n",
       "      <td>e19a0fa00aeda885b8a436757e889bc9</td>\n",
       "      <td>Sioux Falls</td>\n",
       "      <td>SD</td>\n",
       "      <td>Minnehaha</td>\n",
       "      <td>57110</td>\n",
       "      <td>43.54321</td>\n",
       "      <td>-96.63772</td>\n",
       "      <td>...</td>\n",
       "      <td>2177.586768</td>\n",
       "      <td>17505.192460</td>\n",
       "      <td>2</td>\n",
       "      <td>4</td>\n",
       "      <td>4</td>\n",
       "      <td>4</td>\n",
       "      <td>3</td>\n",
       "      <td>4</td>\n",
       "      <td>3</td>\n",
       "      <td>3</td>\n",
       "    </tr>\n",
       "    <tr>\n",
       "      <th>4</th>\n",
       "      <td>4</td>\n",
       "      <td>A879973</td>\n",
       "      <td>1dec528d-eb34-4079-adce-0d7a40e82205</td>\n",
       "      <td>cd17d7b6d152cb6f23957346d11c3f07</td>\n",
       "      <td>New Richland</td>\n",
       "      <td>MN</td>\n",
       "      <td>Waseca</td>\n",
       "      <td>56072</td>\n",
       "      <td>43.89744</td>\n",
       "      <td>-93.51479</td>\n",
       "      <td>...</td>\n",
       "      <td>2465.118965</td>\n",
       "      <td>12993.437350</td>\n",
       "      <td>3</td>\n",
       "      <td>5</td>\n",
       "      <td>5</td>\n",
       "      <td>3</td>\n",
       "      <td>4</td>\n",
       "      <td>5</td>\n",
       "      <td>5</td>\n",
       "      <td>5</td>\n",
       "    </tr>\n",
       "    <tr>\n",
       "      <th>5</th>\n",
       "      <td>5</td>\n",
       "      <td>C544523</td>\n",
       "      <td>5885f56b-d6da-43a3-8760-83583af94266</td>\n",
       "      <td>d2f0425877b10ed6bb381f3e2579424a</td>\n",
       "      <td>West Point</td>\n",
       "      <td>VA</td>\n",
       "      <td>King William</td>\n",
       "      <td>23181</td>\n",
       "      <td>37.59894</td>\n",
       "      <td>-76.88958</td>\n",
       "      <td>...</td>\n",
       "      <td>1885.655137</td>\n",
       "      <td>3716.525786</td>\n",
       "      <td>2</td>\n",
       "      <td>1</td>\n",
       "      <td>3</td>\n",
       "      <td>3</td>\n",
       "      <td>5</td>\n",
       "      <td>3</td>\n",
       "      <td>4</td>\n",
       "      <td>3</td>\n",
       "    </tr>\n",
       "  </tbody>\n",
       "</table>\n",
       "<p>5 rows × 45 columns</p>\n",
       "</div>"
      ],
      "text/plain": [
       "   CaseOrder Customer_id                           Interaction  \\\n",
       "1          1     C412403  8cd49b13-f45a-4b47-a2bd-173ffa932c2f   \n",
       "2          2     Z919181  d2450b70-0337-4406-bdbb-bc1037f1734c   \n",
       "3          3     F995323  a2057123-abf5-4a2c-abad-8ffe33512562   \n",
       "4          4     A879973  1dec528d-eb34-4079-adce-0d7a40e82205   \n",
       "5          5     C544523  5885f56b-d6da-43a3-8760-83583af94266   \n",
       "\n",
       "                                UID          City State        County    Zip  \\\n",
       "1  3a83ddb66e2ae73798bdf1d705dc0932           Eva    AL        Morgan  35621   \n",
       "2  176354c5eef714957d486009feabf195      Marianna    FL       Jackson  32446   \n",
       "3  e19a0fa00aeda885b8a436757e889bc9   Sioux Falls    SD     Minnehaha  57110   \n",
       "4  cd17d7b6d152cb6f23957346d11c3f07  New Richland    MN        Waseca  56072   \n",
       "5  d2f0425877b10ed6bb381f3e2579424a    West Point    VA  King William  23181   \n",
       "\n",
       "        Lat       Lng  ...  TotalCharge Additional_charges Item1 Item2 Item3  \\\n",
       "1  34.34960 -86.72508  ...  3191.048774       17939.403420     3     3     2   \n",
       "2  30.84513 -85.22907  ...  4214.905346       17612.998120     3     4     3   \n",
       "3  43.54321 -96.63772  ...  2177.586768       17505.192460     2     4     4   \n",
       "4  43.89744 -93.51479  ...  2465.118965       12993.437350     3     5     5   \n",
       "5  37.59894 -76.88958  ...  1885.655137        3716.525786     2     1     3   \n",
       "\n",
       "  Item4 Item5 Item6  Item7  Item8  \n",
       "1     2     4     3      3      4  \n",
       "2     4     4     4      3      3  \n",
       "3     4     3     4      3      3  \n",
       "4     3     4     5      5      5  \n",
       "5     3     5     3      4      3  \n",
       "\n",
       "[5 rows x 45 columns]"
      ]
     },
     "execution_count": 26,
     "metadata": {},
     "output_type": "execute_result"
    }
   ],
   "source": [
    "# Create a CSV file with the cleaned data\n",
    "medical_data_copy.to_csv('medical_cleaned_data.csv', index=False)\n",
    "medical_data_copy.head(5)"
   ]
  },
  {
   "cell_type": "markdown",
   "metadata": {},
   "source": [
    "# D6: Limitations\n",
    "There were some limitations that were faced when cleaning the data. First, it was with looking at the columns with missing data, this caused problems because we could not just fill in the data with the mean or median from the respective columns, as the data we are working with is medical data. Medical data we cannot ethically add data to a patient that they did not provide and it can cause problems in the future. Next, is the data we converted to categorical data, this might not reflect all the possible choices. Lastly, with not being able to fill in the null values and if delete the columns with null values then it will impact the analysis in the future if we are missing important columns. "
   ]
  },
  {
   "cell_type": "markdown",
   "metadata": {},
   "source": [
    "# D7: Impact of Limitations\n",
    "If we were to delete the columns with null values then it will cause problems with creating an analysis report as we would have missing data if we happen to need those columns. Then when mentioned above about the columns that were changed to categorical, this might impact the analysis as we do not know the exact amount of categories that we should make. For example, from the given data it might not have all the categories that are required in that columns, so if we collect more data there is always that chance that we missed a category from the ones we created. By deleting the columns with the null values it also made the data provided smaller as we had to delete a few columns for its missing value. "
   ]
  },
  {
   "cell_type": "markdown",
   "metadata": {},
   "source": [
    "# E1:Principal Components \n",
    "To complete the Princiapl Component Analysis (PCA), we need to use quantitative variables. For this part the variables that will be used are population, VitD_levels, Doc_visists, Full_meals_eaten, VitD_supp, Initial_admin, TotalCharge, and Additional_charges. Following the material provided from the WGU readings we will now generate the code to perform a PCA on the data. "
   ]
  },
  {
   "cell_type": "code",
   "execution_count": 27,
   "metadata": {},
   "outputs": [],
   "source": [
    "# import the libraries we need for PCA\n",
    "from sklearn.decomposition import PCA"
   ]
  },
  {
   "cell_type": "code",
   "execution_count": 28,
   "metadata": {},
   "outputs": [
    {
     "data": {
      "text/html": [
       "<div>\n",
       "<style scoped>\n",
       "    .dataframe tbody tr th:only-of-type {\n",
       "        vertical-align: middle;\n",
       "    }\n",
       "\n",
       "    .dataframe tbody tr th {\n",
       "        vertical-align: top;\n",
       "    }\n",
       "\n",
       "    .dataframe thead th {\n",
       "        text-align: right;\n",
       "    }\n",
       "</style>\n",
       "<table border=\"1\" class=\"dataframe\">\n",
       "  <thead>\n",
       "    <tr style=\"text-align: right;\">\n",
       "      <th></th>\n",
       "      <th>PC1</th>\n",
       "      <th>PC2</th>\n",
       "      <th>PC3</th>\n",
       "      <th>PC4</th>\n",
       "      <th>PC5</th>\n",
       "      <th>PC6</th>\n",
       "    </tr>\n",
       "  </thead>\n",
       "  <tbody>\n",
       "    <tr>\n",
       "      <th>VitD_levels</th>\n",
       "      <td>0.705720</td>\n",
       "      <td>0.008958</td>\n",
       "      <td>-0.037719</td>\n",
       "      <td>-0.031247</td>\n",
       "      <td>0.014845</td>\n",
       "      <td>0.706583</td>\n",
       "    </tr>\n",
       "    <tr>\n",
       "      <th>Doc_visits</th>\n",
       "      <td>-0.002197</td>\n",
       "      <td>-0.103832</td>\n",
       "      <td>0.542854</td>\n",
       "      <td>-0.828031</td>\n",
       "      <td>0.094079</td>\n",
       "      <td>-0.006105</td>\n",
       "    </tr>\n",
       "    <tr>\n",
       "      <th>Full_meals_eaten</th>\n",
       "      <td>0.001113</td>\n",
       "      <td>0.763435</td>\n",
       "      <td>0.109210</td>\n",
       "      <td>0.048079</td>\n",
       "      <td>0.634560</td>\n",
       "      <td>-0.016167</td>\n",
       "    </tr>\n",
       "    <tr>\n",
       "      <th>VitD_supp</th>\n",
       "      <td>0.031041</td>\n",
       "      <td>-0.539704</td>\n",
       "      <td>0.477444</td>\n",
       "      <td>0.441195</td>\n",
       "      <td>0.533908</td>\n",
       "      <td>0.009620</td>\n",
       "    </tr>\n",
       "    <tr>\n",
       "      <th>TotalCharge</th>\n",
       "      <td>0.706361</td>\n",
       "      <td>-0.008459</td>\n",
       "      <td>-0.025348</td>\n",
       "      <td>-0.012644</td>\n",
       "      <td>-0.003760</td>\n",
       "      <td>-0.707224</td>\n",
       "    </tr>\n",
       "    <tr>\n",
       "      <th>Additional_charges</th>\n",
       "      <td>0.045210</td>\n",
       "      <td>0.339048</td>\n",
       "      <td>0.680709</td>\n",
       "      <td>0.340974</td>\n",
       "      <td>-0.550628</td>\n",
       "      <td>0.013533</td>\n",
       "    </tr>\n",
       "  </tbody>\n",
       "</table>\n",
       "</div>"
      ],
      "text/plain": [
       "                         PC1       PC2       PC3       PC4       PC5       PC6\n",
       "VitD_levels         0.705720  0.008958 -0.037719 -0.031247  0.014845  0.706583\n",
       "Doc_visits         -0.002197 -0.103832  0.542854 -0.828031  0.094079 -0.006105\n",
       "Full_meals_eaten    0.001113  0.763435  0.109210  0.048079  0.634560 -0.016167\n",
       "VitD_supp           0.031041 -0.539704  0.477444  0.441195  0.533908  0.009620\n",
       "TotalCharge         0.706361 -0.008459 -0.025348 -0.012644 -0.003760 -0.707224\n",
       "Additional_charges  0.045210  0.339048  0.680709  0.340974 -0.550628  0.013533"
      ]
     },
     "execution_count": 28,
     "metadata": {},
     "output_type": "execute_result"
    }
   ],
   "source": [
    "# Store the variables we are going to use\n",
    "df = medical_data[['VitD_levels', 'Doc_visits', 'Full_meals_eaten', 'VitD_supp', 'TotalCharge', 'Additional_charges']]\n",
    "\n",
    "# Normalize the data using the mean and standard deviation\n",
    "df_normalized = (df - df.mean()) / df.std()\n",
    "\n",
    "# Set the size of the PCA \n",
    "pca = PCA(n_components=df.shape[1])\n",
    "\n",
    "# Fit the normalized data onto the PCA\n",
    "pca.fit(df_normalized)\n",
    "\n",
    "# Print the data\n",
    "df_pca = pd.DataFrame(pca.transform(df_normalized), columns=['PC1', 'PC2', 'PC3', 'PC4', 'PC5', 'PC6'])\n",
    "\n",
    "# Generate the dataframe for PCA values\n",
    "pca_loadings = pd.DataFrame(pca.components_.T, columns=['PC1', 'PC2', 'PC3', 'PC4', 'PC5', 'PC6'], index=df.columns)\n",
    "\n",
    "# Print the PCA values\n",
    "pca_loadings"
   ]
  },
  {
   "cell_type": "markdown",
   "metadata": {},
   "source": [
    "# E2: Criteria Used\n",
    "Here I will plot the eigenvalues of each principal component, to identify each one. Again we will follow the guide in the notes given to us by the class. "
   ]
  },
  {
   "cell_type": "code",
   "execution_count": null,
   "metadata": {},
   "outputs": [],
   "source": []
  }
 ],
 "metadata": {
  "kernelspec": {
   "display_name": "Python 3",
   "language": "python",
   "name": "python3"
  },
  "language_info": {
   "codemirror_mode": {
    "name": "ipython",
    "version": 3
   },
   "file_extension": ".py",
   "mimetype": "text/x-python",
   "name": "python",
   "nbconvert_exporter": "python",
   "pygments_lexer": "ipython3",
   "version": "3.10.4"
  }
 },
 "nbformat": 4,
 "nbformat_minor": 2
}
