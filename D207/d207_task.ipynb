{
 "cells": [
  {
   "cell_type": "markdown",
   "id": "f74a185f7adbb611",
   "metadata": {},
   "source": [
    "# D207 Data Cleaning Performance Assessment\n",
    "By Luis Medina, Student ID 012020203"
   ]
  },
  {
   "cell_type": "markdown",
   "id": "deef5ad7a7c21a4e",
   "metadata": {},
   "source": [
    "## A1: Question For Analysis\n",
    " For this the question we will be looking at the medical data again. The question I am asking is that, if there is any relationship between being overweight and being readmitted to the hostipal. The research question is, \"Do patients that are overweight have a higher rate of readmission than the rest of the population?\" This the hypothesis statement:\n",
    "$$ H_0: \\text{readmission}_{\\text{overweight}} = \\text{readmission}_{\\text{population}} $$\n",
    "$$ H_1: \\text{readmission}_{\\text{overweight}} \\neq \\text{readmission}_{\\text{population}} $$\n",
    "With the $ \\alpha $ value of 0.05."
   ]
  },
  {
   "cell_type": "markdown",
   "id": "a42a05d14af1d353",
   "metadata": {},
   "source": [
    "## A2: Benefit from Analysis\n",
    "An individual's health is often a factor into if a individual needs to visit a hostpital or be readmittted into one. Being overweight can lead to many different health problems that can lead to being readmitted into the hospital. Finding a relationship between these factors is greatly important for hospitals as it can help reduce the number of readmissions a hospital has. Looking at this will save the company money, as having less readmission of patients, then the hospital will not be penalized for having a increasing number of readmission of patients. Finding a relationship could demonstrate the necessity to treat not only the issue directly responsible for the patient's hospitalization, but also treatment to help reduce readmission to hospitals. "
   ]
  },
  {
   "cell_type": "markdown",
   "id": "78403f056437206d",
   "metadata": {},
   "source": [
    "## A3: Data Identification\n",
    "The relevant data that will be used for the research is:\n",
    "* ReAdmis (Object), example: No \n",
    "For this column it indicates if whether or not the patient was readmitted within 1 month of release.\n",
    "* Overweight (Object), example: Yes\n",
    "For this column it indicates whethter the patient is considered overweight based on age, gender, and height."
   ]
  },
  {
   "cell_type": "markdown",
   "id": "0a1f2cea",
   "metadata": {},
   "source": [
    "## B1: Code\n",
    "Here will clean the data similar to how we did in the previous project, in order to prepare the data for analysis. "
   ]
  },
  {
   "cell_type": "code",
   "execution_count": 1,
   "id": "4614a378",
   "metadata": {},
   "outputs": [],
   "source": [
    "# First import all the necessary libraries\n",
    "import numpy as np\n",
    "import pandas as pd\n",
    "import matplotlib.pyplot as plt\n",
    "import seaborn as sns\n",
    "from scipy import stats"
   ]
  },
  {
   "cell_type": "code",
   "execution_count": 2,
   "id": "d9db4d22",
   "metadata": {},
   "outputs": [
    {
     "data": {
      "text/html": [
       "<div>\n",
       "<style scoped>\n",
       "    .dataframe tbody tr th:only-of-type {\n",
       "        vertical-align: middle;\n",
       "    }\n",
       "\n",
       "    .dataframe tbody tr th {\n",
       "        vertical-align: top;\n",
       "    }\n",
       "\n",
       "    .dataframe thead th {\n",
       "        text-align: right;\n",
       "    }\n",
       "</style>\n",
       "<table border=\"1\" class=\"dataframe\">\n",
       "  <thead>\n",
       "    <tr style=\"text-align: right;\">\n",
       "      <th></th>\n",
       "      <th>CaseOrder</th>\n",
       "      <th>Customer_id</th>\n",
       "      <th>Interaction</th>\n",
       "      <th>UID</th>\n",
       "      <th>City</th>\n",
       "      <th>State</th>\n",
       "      <th>County</th>\n",
       "      <th>Zip</th>\n",
       "      <th>Lat</th>\n",
       "      <th>Lng</th>\n",
       "      <th>...</th>\n",
       "      <th>TotalCharge</th>\n",
       "      <th>Additional_charges</th>\n",
       "      <th>Item1</th>\n",
       "      <th>Item2</th>\n",
       "      <th>Item3</th>\n",
       "      <th>Item4</th>\n",
       "      <th>Item5</th>\n",
       "      <th>Item6</th>\n",
       "      <th>Item7</th>\n",
       "      <th>Item8</th>\n",
       "    </tr>\n",
       "  </thead>\n",
       "  <tbody>\n",
       "    <tr>\n",
       "      <th>0</th>\n",
       "      <td>1</td>\n",
       "      <td>C412403</td>\n",
       "      <td>8cd49b13-f45a-4b47-a2bd-173ffa932c2f</td>\n",
       "      <td>3a83ddb66e2ae73798bdf1d705dc0932</td>\n",
       "      <td>Eva</td>\n",
       "      <td>AL</td>\n",
       "      <td>Morgan</td>\n",
       "      <td>35621</td>\n",
       "      <td>34.34960</td>\n",
       "      <td>-86.72508</td>\n",
       "      <td>...</td>\n",
       "      <td>3726.702860</td>\n",
       "      <td>17939.403420</td>\n",
       "      <td>3</td>\n",
       "      <td>3</td>\n",
       "      <td>2</td>\n",
       "      <td>2</td>\n",
       "      <td>4</td>\n",
       "      <td>3</td>\n",
       "      <td>3</td>\n",
       "      <td>4</td>\n",
       "    </tr>\n",
       "    <tr>\n",
       "      <th>1</th>\n",
       "      <td>2</td>\n",
       "      <td>Z919181</td>\n",
       "      <td>d2450b70-0337-4406-bdbb-bc1037f1734c</td>\n",
       "      <td>176354c5eef714957d486009feabf195</td>\n",
       "      <td>Marianna</td>\n",
       "      <td>FL</td>\n",
       "      <td>Jackson</td>\n",
       "      <td>32446</td>\n",
       "      <td>30.84513</td>\n",
       "      <td>-85.22907</td>\n",
       "      <td>...</td>\n",
       "      <td>4193.190458</td>\n",
       "      <td>17612.998120</td>\n",
       "      <td>3</td>\n",
       "      <td>4</td>\n",
       "      <td>3</td>\n",
       "      <td>4</td>\n",
       "      <td>4</td>\n",
       "      <td>4</td>\n",
       "      <td>3</td>\n",
       "      <td>3</td>\n",
       "    </tr>\n",
       "    <tr>\n",
       "      <th>2</th>\n",
       "      <td>3</td>\n",
       "      <td>F995323</td>\n",
       "      <td>a2057123-abf5-4a2c-abad-8ffe33512562</td>\n",
       "      <td>e19a0fa00aeda885b8a436757e889bc9</td>\n",
       "      <td>Sioux Falls</td>\n",
       "      <td>SD</td>\n",
       "      <td>Minnehaha</td>\n",
       "      <td>57110</td>\n",
       "      <td>43.54321</td>\n",
       "      <td>-96.63772</td>\n",
       "      <td>...</td>\n",
       "      <td>2434.234222</td>\n",
       "      <td>17505.192460</td>\n",
       "      <td>2</td>\n",
       "      <td>4</td>\n",
       "      <td>4</td>\n",
       "      <td>4</td>\n",
       "      <td>3</td>\n",
       "      <td>4</td>\n",
       "      <td>3</td>\n",
       "      <td>3</td>\n",
       "    </tr>\n",
       "    <tr>\n",
       "      <th>3</th>\n",
       "      <td>4</td>\n",
       "      <td>A879973</td>\n",
       "      <td>1dec528d-eb34-4079-adce-0d7a40e82205</td>\n",
       "      <td>cd17d7b6d152cb6f23957346d11c3f07</td>\n",
       "      <td>New Richland</td>\n",
       "      <td>MN</td>\n",
       "      <td>Waseca</td>\n",
       "      <td>56072</td>\n",
       "      <td>43.89744</td>\n",
       "      <td>-93.51479</td>\n",
       "      <td>...</td>\n",
       "      <td>2127.830423</td>\n",
       "      <td>12993.437350</td>\n",
       "      <td>3</td>\n",
       "      <td>5</td>\n",
       "      <td>5</td>\n",
       "      <td>3</td>\n",
       "      <td>4</td>\n",
       "      <td>5</td>\n",
       "      <td>5</td>\n",
       "      <td>5</td>\n",
       "    </tr>\n",
       "    <tr>\n",
       "      <th>4</th>\n",
       "      <td>5</td>\n",
       "      <td>C544523</td>\n",
       "      <td>5885f56b-d6da-43a3-8760-83583af94266</td>\n",
       "      <td>d2f0425877b10ed6bb381f3e2579424a</td>\n",
       "      <td>West Point</td>\n",
       "      <td>VA</td>\n",
       "      <td>King William</td>\n",
       "      <td>23181</td>\n",
       "      <td>37.59894</td>\n",
       "      <td>-76.88958</td>\n",
       "      <td>...</td>\n",
       "      <td>2113.073274</td>\n",
       "      <td>3716.525786</td>\n",
       "      <td>2</td>\n",
       "      <td>1</td>\n",
       "      <td>3</td>\n",
       "      <td>3</td>\n",
       "      <td>5</td>\n",
       "      <td>3</td>\n",
       "      <td>4</td>\n",
       "      <td>3</td>\n",
       "    </tr>\n",
       "  </tbody>\n",
       "</table>\n",
       "<p>5 rows × 50 columns</p>\n",
       "</div>"
      ],
      "text/plain": [
       "   CaseOrder Customer_id                           Interaction  \\\n",
       "0          1     C412403  8cd49b13-f45a-4b47-a2bd-173ffa932c2f   \n",
       "1          2     Z919181  d2450b70-0337-4406-bdbb-bc1037f1734c   \n",
       "2          3     F995323  a2057123-abf5-4a2c-abad-8ffe33512562   \n",
       "3          4     A879973  1dec528d-eb34-4079-adce-0d7a40e82205   \n",
       "4          5     C544523  5885f56b-d6da-43a3-8760-83583af94266   \n",
       "\n",
       "                                UID          City State        County    Zip  \\\n",
       "0  3a83ddb66e2ae73798bdf1d705dc0932           Eva    AL        Morgan  35621   \n",
       "1  176354c5eef714957d486009feabf195      Marianna    FL       Jackson  32446   \n",
       "2  e19a0fa00aeda885b8a436757e889bc9   Sioux Falls    SD     Minnehaha  57110   \n",
       "3  cd17d7b6d152cb6f23957346d11c3f07  New Richland    MN        Waseca  56072   \n",
       "4  d2f0425877b10ed6bb381f3e2579424a    West Point    VA  King William  23181   \n",
       "\n",
       "        Lat       Lng  ...  TotalCharge Additional_charges Item1 Item2  Item3  \\\n",
       "0  34.34960 -86.72508  ...  3726.702860       17939.403420     3     3      2   \n",
       "1  30.84513 -85.22907  ...  4193.190458       17612.998120     3     4      3   \n",
       "2  43.54321 -96.63772  ...  2434.234222       17505.192460     2     4      4   \n",
       "3  43.89744 -93.51479  ...  2127.830423       12993.437350     3     5      5   \n",
       "4  37.59894 -76.88958  ...  2113.073274        3716.525786     2     1      3   \n",
       "\n",
       "   Item4  Item5 Item6 Item7 Item8  \n",
       "0      2      4     3     3     4  \n",
       "1      4      4     4     3     3  \n",
       "2      4      3     4     3     3  \n",
       "3      3      4     5     5     5  \n",
       "4      3      5     3     4     3  \n",
       "\n",
       "[5 rows x 50 columns]"
      ]
     },
     "execution_count": 2,
     "metadata": {},
     "output_type": "execute_result"
    }
   ],
   "source": [
    "medical_data = pd.read_csv('medical_clean.csv')\n",
    "# create a copy of the data to work with\n",
    "medical_data_copy = medical_data.copy()\n",
    "medical_data_copy.head(5)"
   ]
  },
  {
   "cell_type": "code",
   "execution_count": 3,
   "id": "58ad022f",
   "metadata": {},
   "outputs": [
    {
     "name": "stdout",
     "output_type": "stream",
     "text": [
      "<class 'pandas.core.frame.DataFrame'>\n",
      "RangeIndex: 10000 entries, 0 to 9999\n",
      "Data columns (total 50 columns):\n",
      " #   Column              Non-Null Count  Dtype  \n",
      "---  ------              --------------  -----  \n",
      " 0   CaseOrder           10000 non-null  int64  \n",
      " 1   Customer_id         10000 non-null  object \n",
      " 2   Interaction         10000 non-null  object \n",
      " 3   UID                 10000 non-null  object \n",
      " 4   City                10000 non-null  object \n",
      " 5   State               10000 non-null  object \n",
      " 6   County              10000 non-null  object \n",
      " 7   Zip                 10000 non-null  int64  \n",
      " 8   Lat                 10000 non-null  float64\n",
      " 9   Lng                 10000 non-null  float64\n",
      " 10  Population          10000 non-null  int64  \n",
      " 11  Area                10000 non-null  object \n",
      " 12  TimeZone            10000 non-null  object \n",
      " 13  Job                 10000 non-null  object \n",
      " 14  Children            10000 non-null  int64  \n",
      " 15  Age                 10000 non-null  int64  \n",
      " 16  Income              10000 non-null  float64\n",
      " 17  Marital             10000 non-null  object \n",
      " 18  Gender              10000 non-null  object \n",
      " 19  ReAdmis             10000 non-null  object \n",
      " 20  VitD_levels         10000 non-null  float64\n",
      " 21  Doc_visits          10000 non-null  int64  \n",
      " 22  Full_meals_eaten    10000 non-null  int64  \n",
      " 23  vitD_supp           10000 non-null  int64  \n",
      " 24  Soft_drink          10000 non-null  object \n",
      " 25  Initial_admin       10000 non-null  object \n",
      " 26  HighBlood           10000 non-null  object \n",
      " 27  Stroke              10000 non-null  object \n",
      " 28  Complication_risk   10000 non-null  object \n",
      " 29  Overweight          10000 non-null  object \n",
      " 30  Arthritis           10000 non-null  object \n",
      " 31  Diabetes            10000 non-null  object \n",
      " 32  Hyperlipidemia      10000 non-null  object \n",
      " 33  BackPain            10000 non-null  object \n",
      " 34  Anxiety             10000 non-null  object \n",
      " 35  Allergic_rhinitis   10000 non-null  object \n",
      " 36  Reflux_esophagitis  10000 non-null  object \n",
      " 37  Asthma              10000 non-null  object \n",
      " 38  Services            10000 non-null  object \n",
      " 39  Initial_days        10000 non-null  float64\n",
      " 40  TotalCharge         10000 non-null  float64\n",
      " 41  Additional_charges  10000 non-null  float64\n",
      " 42  Item1               10000 non-null  int64  \n",
      " 43  Item2               10000 non-null  int64  \n",
      " 44  Item3               10000 non-null  int64  \n",
      " 45  Item4               10000 non-null  int64  \n",
      " 46  Item5               10000 non-null  int64  \n",
      " 47  Item6               10000 non-null  int64  \n",
      " 48  Item7               10000 non-null  int64  \n",
      " 49  Item8               10000 non-null  int64  \n",
      "dtypes: float64(7), int64(16), object(27)\n",
      "memory usage: 3.8+ MB\n"
     ]
    }
   ],
   "source": [
    "medical_data_copy.info()"
   ]
  },
  {
   "cell_type": "code",
   "execution_count": 4,
   "id": "c027581b",
   "metadata": {},
   "outputs": [],
   "source": [
    "# Change the columns to categorical data types \n",
    "medical_data_copy[['Age', 'Marital', 'Initial_admin', 'Complication_risk','Services', 'Gender']] = medical_data_copy[['Age', 'Marital', 'Initial_admin', 'Complication_risk','Services', 'Gender']].astype('category')\n",
    "\n",
    "medical_data_copy['TimeZone'].replace({\n",
    "    'America/New_York': 'Eastern Daylight Time',\n",
    "    'America/Chicago': 'Central Daylight Time',\n",
    "    'America/Los_Angeles': 'Pacific Daylight Time',\n",
    "    'America/Denver': 'Mountain Daylight Time',\n",
    "    'America/Detroit': 'Eastern Daylight Time',\n",
    "    'America/Indiana/Indianapolis': 'Eastern Daylight Time',\n",
    "    'America/Phoenix': 'Mountain Standard Time',\n",
    "    'America/Boise': 'Mountain Daylight Time',\n",
    "    'America/Anchorage': 'Alaska Daylight Time',\n",
    "    'America/Puerto_Rico': 'Atlantic Standard Time',\n",
    "    'America/Honolulu': 'Hawaii-Aleutian Standard Time',\n",
    "    'America/Menominie': 'Central Daylight Time',\n",
    "    'America/Nome': 'Alaska Daylight Time',\n",
    "    'America/Indiana/Vincennes': 'Eastern Daylight Time',\n",
    "    'America/Kentucky/Louisville': 'Eastern Daylight Time',\n",
    "    'America/Sitka': 'Alaska Daylight Time',\n",
    "    'America/Toronto': 'Eastern Daylight Time',\n",
    "    'America/Indiana/Marengo': 'Eastern Daylight Time',\n",
    "    'America/Indiana/Tell_City': 'Central Daylight Time',\n",
    "    'America/north_Dakota/Beulah': 'Central Daylight Time',\n",
    "    'America/Yakutat': 'Alaska Daylight Time',\n",
    "    'America/Indiana/Winamac': 'Eastern Daylight Time',\n",
    "    'America/Indiana/Knox': 'Central Daylight Time',\n",
    "    'America/north_dakota/new_Salem': 'Central Daylight Time',\n",
    "    'America/indiana/vevay': 'Eastern Daylight Time',\n",
    "    'America/Adak': 'Hawaii-Aleutian Standard Time',\n",
    "}, inplace=True)\n",
    "\n",
    "# Convert the Timezone column to a categorical data type\n",
    "medical_data_copy['TimeZone'] = medical_data_copy['TimeZone'].astype('category')\n",
    "\n",
    "# Convert items 1-8 to categorical data types\n",
    "medical_data_copy[['Item1', 'Item2', 'Item3', 'Item4', 'Item5', 'Item6', 'Item7', 'Item8']] = medical_data_copy[['Item1', 'Item2', 'Item3', 'Item4', 'Item5', 'Item6', 'Item7', 'Item8']].astype('category')"
   ]
  },
  {
   "cell_type": "code",
   "execution_count": 5,
   "id": "75e88ab8",
   "metadata": {},
   "outputs": [
    {
     "name": "stdout",
     "output_type": "stream",
     "text": [
      "Overweight    No   Yes\n",
      "ReAdmis               \n",
      "No          1821  4510\n",
      "Yes         1085  2584\n"
     ]
    }
   ],
   "source": [
    "# Generate a crosstab of the ReAdmis vs Overweight columns\n",
    "table = pd.crosstab(medical_data_copy.ReAdmis, medical_data_copy.Overweight)\n",
    "print(table)"
   ]
  },
  {
   "cell_type": "markdown",
   "id": "01c87e0b",
   "metadata": {},
   "source": [
    "For this testing we will be using a Chi-Square test to compare the two categorical variables. We want to determine if there is any significant association between the two."
   ]
  },
  {
   "cell_type": "code",
   "execution_count": 6,
   "id": "c5395cb2",
   "metadata": {},
   "outputs": [
    {
     "name": "stdout",
     "output_type": "stream",
     "text": [
      "(0.6984802059617877, 0.4032948387365497, 1, array([[1839.7886, 4491.2114],\n",
      "       [1066.2114, 2602.7886]]))\n",
      "The p-value is: 0.40\n"
     ]
    }
   ],
   "source": [
    "# Create the chi-square test\n",
    "chi = stats.chi2_contingency(table)\n",
    "print(chi)\n",
    "print(f'The p-value is: {chi[1]:.2f}')"
   ]
  },
  {
   "cell_type": "markdown",
   "id": "2e880bc5",
   "metadata": {},
   "source": [
    "## B2: Output\n",
    "After running the chi-square test it returned a p-value of 0.40. This is the probability of finding a result as the one observed, under the null hypothesis. Since, the p-value we got was 0.40, which is much bigger than the alhpa we chose in the beginning of 0.05. As a result, we do not reject the null hypothesis and therefore we accept the null hypothesis. This concludes that the distribution of readmitted patients who are overweight is not statistically significant from the distribution of readmitted patients that are not overweight. "
   ]
  },
  {
   "cell_type": "markdown",
   "id": "95caf563",
   "metadata": {},
   "source": [
    "## B3: Justification\n",
    "The reason I used a chi-square test for independence is that the data I was working with was categorical and the question I wanted to answer. I wanted to see if there was any difference in being overweight and that causing individuals to be readmitted to the hospital more often or not. "
   ]
  },
  {
   "cell_type": "markdown",
   "id": "1af74474",
   "metadata": {},
   "source": [
    "## C: Univariate Statistics \n",
    "For this part I will be using 4 variables, 2 categorical and 2 continuous variables. The 4 variables that will be used are:\n",
    "\n",
    "Children (Categorical)\n",
    "\n",
    "Full meals eaten (Categorical)\n",
    "\n",
    "TotalCharge (Continuous)\n",
    "\n",
    "Population (Continuous)"
   ]
  },
  {
   "cell_type": "code",
   "execution_count": 7,
   "id": "a579fc03",
   "metadata": {},
   "outputs": [
    {
     "data": {
      "image/png": "[encoded data removed]",
      "text/plain": [
       "<Figure size 1080x432 with 2 Axes>"
      ]
     },
     "metadata": {
      "needs_background": "light"
     },
     "output_type": "display_data"
    }
   ],
   "source": [
    "plt.figure(figsize=(15,6))\n",
    "plt.suptitle(\"Univaraite Statistics Categorical Varables\")\n",
    "\n",
    "# Plot the first plot for the children column. \n",
    "plt.subplot(1,2,1)\n",
    "plt.title(\"Distribution of Patient's Number of Children\")\n",
    "plt.hist(data=medical_data_copy, x= 'Children')\n",
    "plt.xlabel('Number of Children')\n",
    "plt.ylabel('Number of Patients')\n",
    "\n",
    "# Plt the second categorical variablee Full meals eaten\n",
    "plt.subplot(1,2,2)\n",
    "categories = medical_data_copy['Full_meals_eaten'].value_counts().index\n",
    "frequencies = medical_data_copy['Full_meals_eaten'].value_counts()\n",
    "\n",
    "plt.bar(categories, frequencies,edgecolor='black')\n",
    "plt.title('Frequency Table for Meals Eaten')\n",
    "plt.xlabel('Number of Meals')\n",
    "plt.ylabel('Frequency')\n",
    "\n",
    "plt.tight_layout(rect=[0,0,1,0.95])\n",
    "\n",
    "plt.show()"
   ]
  },
  {
   "cell_type": "code",
   "execution_count": null,
   "id": "644be5fa",
   "metadata": {},
   "outputs": [],
   "source": [
    "plt.figure(figsize=(15,6))\n",
    "plt.suptitle('Univariate Statistics Continuous Variables')\n",
    "\n",
    "# Plot the first plot for the total charge column\n",
    "plt.subplot(1,2,1)\n",
    "plt.title('Distribution of Total Charges')\n",
    "plt.hist(data=medical_data_copy, x='TotalCharge', bins=20, density=True, alpha=0.6, color='b')\n",
    "plt.xlabel('Total Charge')\n",
    "plt.ylabel('Density')\n",
    "\n",
    "# Plot the second plot for population"
   ]
  },
  {
   "cell_type": "code",
   "execution_count": 26,
   "id": "d33f4905",
   "metadata": {},
   "outputs": [
    {
     "data": {
      "text/plain": [
       "count     10000.000000\n",
       "mean       9965.253800\n",
       "std       14824.758614\n",
       "min           0.000000\n",
       "25%         694.750000\n",
       "50%        2769.000000\n",
       "75%       13945.000000\n",
       "max      122814.000000\n",
       "Name: Population, dtype: float64"
      ]
     },
     "execution_count": 26,
     "metadata": {},
     "output_type": "execute_result"
    }
   ],
   "source": [
    "medical_data_copy['Population'].describe()"
   ]
  },
  {
   "cell_type": "code",
   "execution_count": 11,
   "id": "b4ac0ff1",
   "metadata": {},
   "outputs": [
    {
     "data": {
      "text/plain": [
       "<AxesSubplot:xlabel='Population'>"
      ]
     },
     "execution_count": 11,
     "metadata": {},
     "output_type": "execute_result"
    },
    {
     "data": {
      "image/png": "[encoded data removed]",
      "text/plain": [
       "<Figure size 432x288 with 1 Axes>"
      ]
     },
     "metadata": {
      "needs_background": "light"
     },
     "output_type": "display_data"
    }
   ],
   "source": [
    "sns.boxplot(data=medical_data_copy, x='Population')"
   ]
  },
  {
   "cell_type": "code",
   "execution_count": null,
   "id": "09915b14",
   "metadata": {},
   "outputs": [],
   "source": []
  }
 ],
 "metadata": {
  "kernelspec": {
   "display_name": "Python 3",
   "language": "python",
   "name": "python3"
  },
  "language_info": {
   "codemirror_mode": {
    "name": "ipython",
    "version": 3
   },
   "file_extension": ".py",
   "mimetype": "text/x-python",
   "name": "python",
   "nbconvert_exporter": "python",
   "pygments_lexer": "ipython3",
   "version": "3.10.4"
  }
 },
 "nbformat": 4,
 "nbformat_minor": 5
}
