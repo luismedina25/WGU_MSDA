{
 "cells": [
  {
   "metadata": {},
   "cell_type": "markdown",
   "source": [
    "# D207 Data Cleaning Performance Assessment\n",
    "By Luis Medina, Student ID 012020203"
   ],
   "id": "f74a185f7adbb611"
  },
  {
   "metadata": {},
   "cell_type": "markdown",
   "source": [
    "## A1: Question For Analysis\n",
    " For this the question we will be looking at the medical data again. The question I am asking is that, if a patient being overweight will cause the patient to be readmitted to the hospital. "
   ],
   "id": "deef5ad7a7c21a4e"
  },
  {
   "metadata": {},
   "cell_type": "markdown",
   "source": "## A2: Benefit from Analysis\n",
   "id": "a42a05d14af1d353"
  },
  {
   "metadata": {},
   "cell_type": "markdown",
   "source": "",
   "id": "78403f056437206d"
  }
 ],
 "metadata": {
  "kernelspec": {
   "display_name": "Python 3",
   "language": "python",
   "name": "python3"
  },
  "language_info": {
   "codemirror_mode": {
    "name": "ipython",
    "version": 2
   },
   "file_extension": ".py",
   "mimetype": "text/x-python",
   "name": "python",
   "nbconvert_exporter": "python",
   "pygments_lexer": "ipython2",
   "version": "2.7.6"
  }
 },
 "nbformat": 4,
 "nbformat_minor": 5
}
