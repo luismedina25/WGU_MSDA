{
 "cells": [
  {
   "cell_type": "markdown",
   "metadata": {},
   "source": [
    "# D208 Linear Regression Modeling\n",
    "By Luis Medina, Student ID: 012020203\n"
   ]
  },
  {
   "cell_type": "markdown",
   "metadata": {},
   "source": [
    "## A1: Research Question\n",
    "For this question I am going to be looking at the churn data set to answer a question. The question I'm asking is \"How do customer service factors and usage patterns influence monthly charges for customers?\" I will be switching up the dataset for this project just to try something new. This question is important for companies to answer, as it can address core aspects of their business model and financial performance. Therefore, we need insights into these questions, to help companies more effective strategies for customer retention and overall business success in a challenging and competitive market."
   ]
  },
  {
   "metadata": {},
   "cell_type": "markdown",
   "source": [
    "## A2: Goals Of the Analysis\n",
    "One of the primary goals of this analysis is to identify any key factors that significantly impact monthly charges for customers. This will help companies to understand the relationship between customer service factors, usage patterns, and monthly charges. Another goal of the analysis is going to quantify the relationship between these factors and monthly charges. I will be developing a predictive model for monthly charges based on customer attributes. Then, this will lead to actionable insights that the company can use for better pricing operations and customer service strategies."
   ]
  },
  {
   "metadata": {},
   "cell_type": "markdown",
   "source": "## B1: Summary of Assumptions\n"
  },
  {
   "metadata": {},
   "cell_type": "markdown",
   "source": ""
  }
 ],
 "metadata": {
  "language_info": {
   "name": "python"
  },
  "kernelspec": {
   "name": "python3",
   "language": "python",
   "display_name": "Python 3 (ipykernel)"
  }
 },
 "nbformat": 4,
 "nbformat_minor": 2
}
