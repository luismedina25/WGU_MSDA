{
 "cells": [
  {
   "cell_type": "markdown",
   "metadata": {},
   "source": [
    "# D208 Linear Regression Modeling\n",
    "By Luis Medina, Student ID: 012020203\n"
   ]
  },
  {
   "cell_type": "markdown",
   "metadata": {},
   "source": [
    "## A1: Research Question\n",
    "For this question I am going to be looking at the churn data set to answer a question. The question I'm asking is \"How do customer service factors and usage patterns influence monthly charges for customers?\" I will be switching up the dataset for this project just to try something new. This question is important for companies to answer, as it can address core aspects of their business model and financial performance. Therefore, we need insights into these questions, to help companies more effective strategies for customer retention and overall business success in a challenging and competitive market."
   ]
  },
  {
   "metadata": {},
   "cell_type": "markdown",
   "source": [
    "## A2: Goals Of the Analysis\n",
    "One of the primary goals of this analysis is to identify any key factors that significantly impact monthly charges for customers. This will help companies to understand the relationship between customer service factors, usage patterns, and monthly charges. Another goal of the analysis is going to quantify the relationship between these factors and monthly charges. I will be developing a predictive model for monthly charges based on customer attributes. Then, this will lead to actionable insights that the company can use for better pricing operations and customer service strategies."
   ]
  },
  {
   "metadata": {},
   "cell_type": "markdown",
   "source": [
    "## B1: Summary of Assumptions\n",
    "Here I will be summarizing four assumptions of multiple linear regression models.\n",
    "- First it's linearity, meaning that there needs to exist a relationship between independent variables and the dependent variable. \n",
    "- Second is independence, here we must see if the observations are independent of each other. If they are not independent then it can lead to incorrect values. \n",
    "- Then, it's equal variances, also known as homoscedasticity, which is that the variance of the residuals is constant across all independent variables.\n",
    "- Finally, it's normality, meaning that the residuals are normally distributed. \n"
   ]
  },
  {
   "metadata": {},
   "cell_type": "markdown",
   "source": [
    "## B2: Tool Benefits\n",
    "For this project I will strictly be using Python as I enjoy its ease with being able to perform statistical modeling and creating visualizations with the many packages it offers. Also, python has more visualization capabilities for exploratory data analysis. Another, benefit is of being is being able to create a notebook that can have both the code and markdown for presentation. Then looking at the libraries like Numpy and Pandas makes it even easier to handle data manipulation and analysis more efficiently to create better models. Also, having the libraries Matplotlib and Seaborn makes creating visualizations for the data easier. Lastly, with Scikit-Learn this is extremely helpful with building models, like the multiple linear regression that will be used in this project."
   ]
  },
  {
   "metadata": {},
   "cell_type": "markdown",
   "source": "## B3: Appropriate Technique\n"
  }
 ],
 "metadata": {
  "language_info": {
   "name": "python"
  },
  "kernelspec": {
   "name": "python3",
   "language": "python",
   "display_name": "Python 3 (ipykernel)"
  }
 },
 "nbformat": 4,
 "nbformat_minor": 2
}
