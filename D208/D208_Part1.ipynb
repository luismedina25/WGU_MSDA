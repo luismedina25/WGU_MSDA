{
 "cells": [
  {
   "cell_type": "markdown",
   "metadata": {},
   "source": [
    "# D208 Linear Regression Modeling\n",
    "By Luis Medina, Student ID: 012020203\n"
   ]
  },
  {
   "cell_type": "markdown",
   "metadata": {},
   "source": [
    "## A1: Research Question\n",
    "For this question I am going to be looking at the churn data set to answer a question. The question I'm asking is \"How do customer service factors and usage patterns influence monthly charges for customers?\" I will be switching up the dataset for this project just to try something new. "
   ]
  }
 ],
 "metadata": {
  "language_info": {
   "name": "python"
  },
  "kernelspec": {
   "name": "python3",
   "language": "python",
   "display_name": "Python 3 (ipykernel)"
  }
 },
 "nbformat": 4,
 "nbformat_minor": 2
}
